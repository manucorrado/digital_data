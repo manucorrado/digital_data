{
  "nbformat": 4,
  "nbformat_minor": 0,
  "metadata": {
    "colab": {
      "name": "Proyecto Final.ipynb",
      "version": "0.3.2",
      "provenance": [],
      "collapsed_sections": [],
      "include_colab_link": true
    },
    "kernelspec": {
      "display_name": "Python 3",
      "language": "python",
      "name": "python3"
    }
  },
  "cells": [
    {
      "cell_type": "markdown",
      "metadata": {
        "id": "view-in-github",
        "colab_type": "text"
      },
      "source": [
        "[View in Colaboratory](https://colab.research.google.com/github/manucorrado/digital_data/blob/master/Proyecto_Final.ipynb)"
      ]
    },
    {
      "metadata": {
        "id": "-sBo-0bOgApY",
        "colab_type": "raw"
      },
      "cell_type": "markdown",
      "source": [
        "Introducción\n",
        "\n",
        "La inmobiliaria Properati publica periódicamente información sobre ofertas de propiedades para venta y alquiler. Ud. deberá asesorar a la inmobiliaria a desarrollar un modelo de regresión que permita predecir el precio por metro cuadrado de una propiedad. El objetivo final es que el modelo que desarrollen sea utilizado como tasador automático a ser aplicados a las próximas propiedades que sean comercializadas por la empresa. Para ello la empresa le provee de un dataset correspondiente al mes de XX de 2017.\n",
        "\n",
        "El dataset es de entre mediano y pequeño pero tiene dos complejidades a la que deberá prestarle atención:\n",
        "\n",
        "● Peso de missing data en algunas variables relevantes ● Será importante tener en cuenta el problema de la influencia espacial en los precios por metro cuadrado. En efecto, es probable que existan diferencias importantes de en las diferentes geografías, barrios y zonas analizadas.\n",
        "\n",
        "Objetivos: ● Efectuar una limpieza del dataset provisto. Particularmente, deberá diseñar estrategias para lidiar con los datos perdidos en ciertas variables. ● Realizar un análisis descriptivo de las principales variables. ● Crear nuevas columnas a partir de las características dadas que puedan tener valor predictivo.\n"
      ]
    },
    {
      "metadata": {
        "id": "e3t3TnewgApb",
        "colab_type": "text"
      },
      "cell_type": "markdown",
      "source": [
        "# 1. LIBRERIAS"
      ]
    },
    {
      "metadata": {
        "id": "i7bSQlragApd",
        "colab_type": "code",
        "colab": {
          "base_uri": "https://localhost:8080/",
          "height": 153
        },
        "collapsed": true,
        "outputId": "48f63027-c830-4a59-c638-ba324734544c"
      },
      "cell_type": "code",
      "source": [
        "!pip install plotly"
      ],
      "execution_count": 1,
      "outputs": [
        {
          "output_type": "stream",
          "text": [
            "Requirement already satisfied: plotly in /usr/local/lib/python3.6/dist-packages (1.12.12)\n",
            "Requirement already satisfied: requests in /usr/local/lib/python3.6/dist-packages (from plotly) (2.18.4)\n",
            "Requirement already satisfied: six in /usr/local/lib/python3.6/dist-packages (from plotly) (1.11.0)\n",
            "Requirement already satisfied: pytz in /usr/local/lib/python3.6/dist-packages (from plotly) (2018.5)\n",
            "Requirement already satisfied: idna<2.7,>=2.5 in /usr/local/lib/python3.6/dist-packages (from requests->plotly) (2.6)\n",
            "Requirement already satisfied: chardet<3.1.0,>=3.0.2 in /usr/local/lib/python3.6/dist-packages (from requests->plotly) (3.0.4)\n",
            "Requirement already satisfied: urllib3<1.23,>=1.21.1 in /usr/local/lib/python3.6/dist-packages (from requests->plotly) (1.22)\n",
            "Requirement already satisfied: certifi>=2017.4.17 in /usr/local/lib/python3.6/dist-packages (from requests->plotly) (2018.8.24)\n"
          ],
          "name": "stdout"
        }
      ]
    },
    {
      "metadata": {
        "id": "Wh0QOy5agApv",
        "colab_type": "code",
        "colab": {
          "base_uri": "https://localhost:8080/",
          "height": 367
        },
        "outputId": "602d4f5e-7595-413f-c439-550deceff39b"
      },
      "cell_type": "code",
      "source": [
        "import pandas as pd\n",
        "import numpy as np\n",
        "from matplotlib import pyplot as plt\n",
        "from matplotlib import cm\n",
        "import joypy\n",
        "import plotly as py\n",
        "import plotly.figure_factory as ff\n",
        "py.offline.init_notebook_mode(connected=True)"
      ],
      "execution_count": 4,
      "outputs": [
        {
          "output_type": "error",
          "ename": "ModuleNotFoundError",
          "evalue": "ignored",
          "traceback": [
            "\u001b[0;31m---------------------------------------------------------------------------\u001b[0m",
            "\u001b[0;31mModuleNotFoundError\u001b[0m                       Traceback (most recent call last)",
            "\u001b[0;32m<ipython-input-4-b64f1392d91a>\u001b[0m in \u001b[0;36m<module>\u001b[0;34m()\u001b[0m\n\u001b[1;32m      1\u001b[0m \u001b[0;32mimport\u001b[0m \u001b[0mpandas\u001b[0m \u001b[0;32mas\u001b[0m \u001b[0mpd\u001b[0m\u001b[0;34m\u001b[0m\u001b[0m\n\u001b[1;32m      2\u001b[0m \u001b[0;32mimport\u001b[0m \u001b[0mnumpy\u001b[0m \u001b[0;32mas\u001b[0m \u001b[0mnp\u001b[0m\u001b[0;34m\u001b[0m\u001b[0m\n\u001b[0;32m----> 3\u001b[0;31m \u001b[0;32mimport\u001b[0m \u001b[0municodecsv\u001b[0m\u001b[0;34m\u001b[0m\u001b[0m\n\u001b[0m\u001b[1;32m      4\u001b[0m \u001b[0;32mimport\u001b[0m \u001b[0mplotly\u001b[0m \u001b[0;32mas\u001b[0m \u001b[0mpy\u001b[0m\u001b[0;34m\u001b[0m\u001b[0m\n\u001b[1;32m      5\u001b[0m \u001b[0;32mimport\u001b[0m \u001b[0mplotly\u001b[0m\u001b[0;34m.\u001b[0m\u001b[0mfigure_factory\u001b[0m \u001b[0;32mas\u001b[0m \u001b[0mff\u001b[0m\u001b[0;34m\u001b[0m\u001b[0m\n",
            "\u001b[0;31mModuleNotFoundError\u001b[0m: No module named 'unicodecsv'",
            "",
            "\u001b[0;31m---------------------------------------------------------------------------\u001b[0;32m\nNOTE: If your import is failing due to a missing package, you can\nmanually install dependencies using either !pip or !apt.\n\nTo view examples of installing some common dependencies, click the\n\"Open Examples\" button below.\n\u001b[0;31m---------------------------------------------------------------------------\u001b[0m\n"
          ]
        }
      ]
    },
    {
      "metadata": {
        "id": "DRQtHaC0gAp6",
        "colab_type": "text"
      },
      "cell_type": "markdown",
      "source": [
        "# 2. IMPORTAR EL CSV\n"
      ]
    },
    {
      "metadata": {
        "id": "cyVX7ggVgAp9",
        "colab_type": "code",
        "colab": {
          "base_uri": "https://localhost:8080/",
          "height": 880
        },
        "outputId": "2fc522f8-7dcd-4cee-ad59-866166228f51"
      },
      "cell_type": "code",
      "source": [
        "df = pd.read_csv('properatti.csv', encoding='utf-8')\n",
        "df.shape"
      ],
      "execution_count": 3,
      "outputs": [
        {
          "output_type": "error",
          "ename": "FileNotFoundError",
          "evalue": "ignored",
          "traceback": [
            "\u001b[0;31m---------------------------------------------------------------------------\u001b[0m",
            "\u001b[0;31mFileNotFoundError\u001b[0m                         Traceback (most recent call last)",
            "\u001b[0;32m<ipython-input-3-1d74d97527fb>\u001b[0m in \u001b[0;36m<module>\u001b[0;34m()\u001b[0m\n\u001b[0;32m----> 1\u001b[0;31m \u001b[0mdf\u001b[0m \u001b[0;34m=\u001b[0m \u001b[0mpd\u001b[0m\u001b[0;34m.\u001b[0m\u001b[0mread_csv\u001b[0m\u001b[0;34m(\u001b[0m\u001b[0;34m'properatti.csv'\u001b[0m\u001b[0;34m,\u001b[0m \u001b[0mencoding\u001b[0m\u001b[0;34m=\u001b[0m\u001b[0;34m'latin1'\u001b[0m\u001b[0;34m)\u001b[0m\u001b[0;34m\u001b[0m\u001b[0m\n\u001b[0m\u001b[1;32m      2\u001b[0m \u001b[0mdf\u001b[0m\u001b[0;34m.\u001b[0m\u001b[0mhead\u001b[0m\u001b[0;34m(\u001b[0m\u001b[0;34m)\u001b[0m\u001b[0;34m\u001b[0m\u001b[0m\n\u001b[1;32m      3\u001b[0m \u001b[0mdf\u001b[0m\u001b[0;34m.\u001b[0m\u001b[0mshape\u001b[0m\u001b[0;34m\u001b[0m\u001b[0m\n",
            "\u001b[0;32m/usr/local/lib/python3.6/dist-packages/pandas/io/parsers.py\u001b[0m in \u001b[0;36mparser_f\u001b[0;34m(filepath_or_buffer, sep, delimiter, header, names, index_col, usecols, squeeze, prefix, mangle_dupe_cols, dtype, engine, converters, true_values, false_values, skipinitialspace, skiprows, nrows, na_values, keep_default_na, na_filter, verbose, skip_blank_lines, parse_dates, infer_datetime_format, keep_date_col, date_parser, dayfirst, iterator, chunksize, compression, thousands, decimal, lineterminator, quotechar, quoting, escapechar, comment, encoding, dialect, tupleize_cols, error_bad_lines, warn_bad_lines, skipfooter, skip_footer, doublequote, delim_whitespace, as_recarray, compact_ints, use_unsigned, low_memory, buffer_lines, memory_map, float_precision)\u001b[0m\n\u001b[1;32m    707\u001b[0m                     skip_blank_lines=skip_blank_lines)\n\u001b[1;32m    708\u001b[0m \u001b[0;34m\u001b[0m\u001b[0m\n\u001b[0;32m--> 709\u001b[0;31m         \u001b[0;32mreturn\u001b[0m \u001b[0m_read\u001b[0m\u001b[0;34m(\u001b[0m\u001b[0mfilepath_or_buffer\u001b[0m\u001b[0;34m,\u001b[0m \u001b[0mkwds\u001b[0m\u001b[0;34m)\u001b[0m\u001b[0;34m\u001b[0m\u001b[0m\n\u001b[0m\u001b[1;32m    710\u001b[0m \u001b[0;34m\u001b[0m\u001b[0m\n\u001b[1;32m    711\u001b[0m     \u001b[0mparser_f\u001b[0m\u001b[0;34m.\u001b[0m\u001b[0m__name__\u001b[0m \u001b[0;34m=\u001b[0m \u001b[0mname\u001b[0m\u001b[0;34m\u001b[0m\u001b[0m\n",
            "\u001b[0;32m/usr/local/lib/python3.6/dist-packages/pandas/io/parsers.py\u001b[0m in \u001b[0;36m_read\u001b[0;34m(filepath_or_buffer, kwds)\u001b[0m\n\u001b[1;32m    447\u001b[0m \u001b[0;34m\u001b[0m\u001b[0m\n\u001b[1;32m    448\u001b[0m     \u001b[0;31m# Create the parser.\u001b[0m\u001b[0;34m\u001b[0m\u001b[0;34m\u001b[0m\u001b[0m\n\u001b[0;32m--> 449\u001b[0;31m     \u001b[0mparser\u001b[0m \u001b[0;34m=\u001b[0m \u001b[0mTextFileReader\u001b[0m\u001b[0;34m(\u001b[0m\u001b[0mfilepath_or_buffer\u001b[0m\u001b[0;34m,\u001b[0m \u001b[0;34m**\u001b[0m\u001b[0mkwds\u001b[0m\u001b[0;34m)\u001b[0m\u001b[0;34m\u001b[0m\u001b[0m\n\u001b[0m\u001b[1;32m    450\u001b[0m \u001b[0;34m\u001b[0m\u001b[0m\n\u001b[1;32m    451\u001b[0m     \u001b[0;32mif\u001b[0m \u001b[0mchunksize\u001b[0m \u001b[0;32mor\u001b[0m \u001b[0miterator\u001b[0m\u001b[0;34m:\u001b[0m\u001b[0;34m\u001b[0m\u001b[0m\n",
            "\u001b[0;32m/usr/local/lib/python3.6/dist-packages/pandas/io/parsers.py\u001b[0m in \u001b[0;36m__init__\u001b[0;34m(self, f, engine, **kwds)\u001b[0m\n\u001b[1;32m    816\u001b[0m             \u001b[0mself\u001b[0m\u001b[0;34m.\u001b[0m\u001b[0moptions\u001b[0m\u001b[0;34m[\u001b[0m\u001b[0;34m'has_index_names'\u001b[0m\u001b[0;34m]\u001b[0m \u001b[0;34m=\u001b[0m \u001b[0mkwds\u001b[0m\u001b[0;34m[\u001b[0m\u001b[0;34m'has_index_names'\u001b[0m\u001b[0;34m]\u001b[0m\u001b[0;34m\u001b[0m\u001b[0m\n\u001b[1;32m    817\u001b[0m \u001b[0;34m\u001b[0m\u001b[0m\n\u001b[0;32m--> 818\u001b[0;31m         \u001b[0mself\u001b[0m\u001b[0;34m.\u001b[0m\u001b[0m_make_engine\u001b[0m\u001b[0;34m(\u001b[0m\u001b[0mself\u001b[0m\u001b[0;34m.\u001b[0m\u001b[0mengine\u001b[0m\u001b[0;34m)\u001b[0m\u001b[0;34m\u001b[0m\u001b[0m\n\u001b[0m\u001b[1;32m    819\u001b[0m \u001b[0;34m\u001b[0m\u001b[0m\n\u001b[1;32m    820\u001b[0m     \u001b[0;32mdef\u001b[0m \u001b[0mclose\u001b[0m\u001b[0;34m(\u001b[0m\u001b[0mself\u001b[0m\u001b[0;34m)\u001b[0m\u001b[0;34m:\u001b[0m\u001b[0;34m\u001b[0m\u001b[0m\n",
            "\u001b[0;32m/usr/local/lib/python3.6/dist-packages/pandas/io/parsers.py\u001b[0m in \u001b[0;36m_make_engine\u001b[0;34m(self, engine)\u001b[0m\n\u001b[1;32m   1047\u001b[0m     \u001b[0;32mdef\u001b[0m \u001b[0m_make_engine\u001b[0m\u001b[0;34m(\u001b[0m\u001b[0mself\u001b[0m\u001b[0;34m,\u001b[0m \u001b[0mengine\u001b[0m\u001b[0;34m=\u001b[0m\u001b[0;34m'c'\u001b[0m\u001b[0;34m)\u001b[0m\u001b[0;34m:\u001b[0m\u001b[0;34m\u001b[0m\u001b[0m\n\u001b[1;32m   1048\u001b[0m         \u001b[0;32mif\u001b[0m \u001b[0mengine\u001b[0m \u001b[0;34m==\u001b[0m \u001b[0;34m'c'\u001b[0m\u001b[0;34m:\u001b[0m\u001b[0;34m\u001b[0m\u001b[0m\n\u001b[0;32m-> 1049\u001b[0;31m             \u001b[0mself\u001b[0m\u001b[0;34m.\u001b[0m\u001b[0m_engine\u001b[0m \u001b[0;34m=\u001b[0m \u001b[0mCParserWrapper\u001b[0m\u001b[0;34m(\u001b[0m\u001b[0mself\u001b[0m\u001b[0;34m.\u001b[0m\u001b[0mf\u001b[0m\u001b[0;34m,\u001b[0m \u001b[0;34m**\u001b[0m\u001b[0mself\u001b[0m\u001b[0;34m.\u001b[0m\u001b[0moptions\u001b[0m\u001b[0;34m)\u001b[0m\u001b[0;34m\u001b[0m\u001b[0m\n\u001b[0m\u001b[1;32m   1050\u001b[0m         \u001b[0;32melse\u001b[0m\u001b[0;34m:\u001b[0m\u001b[0;34m\u001b[0m\u001b[0m\n\u001b[1;32m   1051\u001b[0m             \u001b[0;32mif\u001b[0m \u001b[0mengine\u001b[0m \u001b[0;34m==\u001b[0m \u001b[0;34m'python'\u001b[0m\u001b[0;34m:\u001b[0m\u001b[0;34m\u001b[0m\u001b[0m\n",
            "\u001b[0;32m/usr/local/lib/python3.6/dist-packages/pandas/io/parsers.py\u001b[0m in \u001b[0;36m__init__\u001b[0;34m(self, src, **kwds)\u001b[0m\n\u001b[1;32m   1693\u001b[0m         \u001b[0mkwds\u001b[0m\u001b[0;34m[\u001b[0m\u001b[0;34m'allow_leading_cols'\u001b[0m\u001b[0;34m]\u001b[0m \u001b[0;34m=\u001b[0m \u001b[0mself\u001b[0m\u001b[0;34m.\u001b[0m\u001b[0mindex_col\u001b[0m \u001b[0;32mis\u001b[0m \u001b[0;32mnot\u001b[0m \u001b[0;32mFalse\u001b[0m\u001b[0;34m\u001b[0m\u001b[0m\n\u001b[1;32m   1694\u001b[0m \u001b[0;34m\u001b[0m\u001b[0m\n\u001b[0;32m-> 1695\u001b[0;31m         \u001b[0mself\u001b[0m\u001b[0;34m.\u001b[0m\u001b[0m_reader\u001b[0m \u001b[0;34m=\u001b[0m \u001b[0mparsers\u001b[0m\u001b[0;34m.\u001b[0m\u001b[0mTextReader\u001b[0m\u001b[0;34m(\u001b[0m\u001b[0msrc\u001b[0m\u001b[0;34m,\u001b[0m \u001b[0;34m**\u001b[0m\u001b[0mkwds\u001b[0m\u001b[0;34m)\u001b[0m\u001b[0;34m\u001b[0m\u001b[0m\n\u001b[0m\u001b[1;32m   1696\u001b[0m \u001b[0;34m\u001b[0m\u001b[0m\n\u001b[1;32m   1697\u001b[0m         \u001b[0;31m# XXX\u001b[0m\u001b[0;34m\u001b[0m\u001b[0;34m\u001b[0m\u001b[0m\n",
            "\u001b[0;32mpandas/_libs/parsers.pyx\u001b[0m in \u001b[0;36mpandas._libs.parsers.TextReader.__cinit__\u001b[0;34m()\u001b[0m\n",
            "\u001b[0;32mpandas/_libs/parsers.pyx\u001b[0m in \u001b[0;36mpandas._libs.parsers.TextReader._setup_parser_source\u001b[0;34m()\u001b[0m\n",
            "\u001b[0;31mFileNotFoundError\u001b[0m: File b'properatti.csv' does not exist"
          ]
        }
      ]
    },
    {
      "metadata": {
        "id": "-jALIZGugAqG",
        "colab_type": "text"
      },
      "cell_type": "markdown",
      "source": [
        "# 3. FILTROS\n"
      ]
    },
    {
      "metadata": {
        "id": "Am6tSesngAqH",
        "colab_type": "code",
        "colab": {
          "base_uri": "https://localhost:8080/",
          "height": 200
        },
        "outputId": "6cc92a38-7f4e-4831-f243-40e4d3dabe71"
      },
      "cell_type": "code",
      "source": [
        "#Nos quedamos con los deptos de capital federal que no sean de pozo\n",
        "deptos_capital = df [(df.property_type == \"apartment\")&(df.state_name == \"Capital Federal\")&(df.description.str.contains(\"pozo\",case=False)==False)].reset_index()\n",
        "deptos_capital.shape"
      ],
      "execution_count": 5,
      "outputs": [
        {
          "output_type": "error",
          "ename": "NameError",
          "evalue": "ignored",
          "traceback": [
            "\u001b[0;31m---------------------------------------------------------------------------\u001b[0m",
            "\u001b[0;31mNameError\u001b[0m                                 Traceback (most recent call last)",
            "\u001b[0;32m<ipython-input-5-61fb25158d45>\u001b[0m in \u001b[0;36m<module>\u001b[0;34m()\u001b[0m\n\u001b[0;32m----> 1\u001b[0;31m \u001b[0mdeptos_capital\u001b[0m \u001b[0;34m=\u001b[0m \u001b[0mdf\u001b[0m \u001b[0;34m[\u001b[0m\u001b[0;34m(\u001b[0m\u001b[0mdf\u001b[0m\u001b[0;34m.\u001b[0m\u001b[0mproperty_type\u001b[0m \u001b[0;34m==\u001b[0m \u001b[0;34m\"apartment\"\u001b[0m\u001b[0;34m)\u001b[0m\u001b[0;34m&\u001b[0m\u001b[0;34m(\u001b[0m\u001b[0mdf\u001b[0m\u001b[0;34m.\u001b[0m\u001b[0mstate_name\u001b[0m \u001b[0;34m==\u001b[0m \u001b[0;34m\"Capital Federal\"\u001b[0m\u001b[0;34m)\u001b[0m\u001b[0;34m&\u001b[0m\u001b[0;34m(\u001b[0m\u001b[0mdf\u001b[0m\u001b[0;34m.\u001b[0m\u001b[0mdescription\u001b[0m\u001b[0;34m.\u001b[0m\u001b[0mstr\u001b[0m\u001b[0;34m.\u001b[0m\u001b[0mcontains\u001b[0m\u001b[0;34m(\u001b[0m\u001b[0;34m\"pozo\"\u001b[0m\u001b[0;34m,\u001b[0m\u001b[0mcase\u001b[0m\u001b[0;34m=\u001b[0m\u001b[0;32mFalse\u001b[0m\u001b[0;34m)\u001b[0m\u001b[0;34m==\u001b[0m\u001b[0;32mFalse\u001b[0m\u001b[0;34m)\u001b[0m\u001b[0;34m]\u001b[0m\u001b[0;34m.\u001b[0m\u001b[0mreset_index\u001b[0m\u001b[0;34m(\u001b[0m\u001b[0;34m)\u001b[0m\u001b[0;34m\u001b[0m\u001b[0m\n\u001b[0m\u001b[1;32m      2\u001b[0m \u001b[0mdeptos_capital\u001b[0m\u001b[0;34m.\u001b[0m\u001b[0mshape\u001b[0m\u001b[0;34m\u001b[0m\u001b[0m\n",
            "\u001b[0;31mNameError\u001b[0m: name 'df' is not defined"
          ]
        }
      ]
    },
    {
      "metadata": {
        "id": "xRJi03U8gAqT",
        "colab_type": "text"
      },
      "cell_type": "markdown",
      "source": [
        "# 4. TRATAMIENTO DE LA BASE"
      ]
    },
    {
      "metadata": {
        "id": "uqKUmEwggAqV",
        "colab_type": "text"
      },
      "cell_type": "markdown",
      "source": [
        "   ## 4.1 Creacion de variables Dummies\n"
      ]
    },
    {
      "metadata": {
        "id": "LHIkCCmTgAqZ",
        "colab_type": "code",
        "colab": {}
      },
      "cell_type": "code",
      "source": [
        "\n",
        "deptos_capital[\"pileta\"]=deptos_capital.description.str.contains(\"pileta|piscina\",case=False)\n",
        "deptos_capital[\"gimnasio\"]=deptos_capital.description.str.contains(\"gimnasio|gym|musculaci\",case=False)\n",
        "deptos_capital[\"terraza\"]=deptos_capital.description.str.contains(\"terraza\",case=False)\n",
        "deptos_capital[\"sum\"]=deptos_capital.description.str.contains(\"terraza\",case=False)\n",
        "deptos_capital[\"cochera\"]=deptos_capital.description.str.contains(\"cochera|garage\",case=False)\n"
      ],
      "execution_count": 0,
      "outputs": []
    },
    {
      "metadata": {
        "id": "Kqc150rTgAqg",
        "colab_type": "code",
        "colab": {},
        "collapsed": true,
        "outputId": "2e2edd71-141a-4ca8-8a95-99c1e84f9e7c"
      },
      "cell_type": "code",
      "source": [
        ""
      ],
      "execution_count": 0,
      "outputs": [
        {
          "output_type": "execute_result",
          "data": {
            "text/html": [
              "<div>\n",
              "<style scoped>\n",
              "    .dataframe tbody tr th:only-of-type {\n",
              "        vertical-align: middle;\n",
              "    }\n",
              "\n",
              "    .dataframe tbody tr th {\n",
              "        vertical-align: top;\n",
              "    }\n",
              "\n",
              "    .dataframe thead th {\n",
              "        text-align: right;\n",
              "    }\n",
              "</style>\n",
              "<table border=\"1\" class=\"dataframe\">\n",
              "  <thead>\n",
              "    <tr style=\"text-align: right;\">\n",
              "      <th></th>\n",
              "      <th>gimnasio</th>\n",
              "      <th>description</th>\n",
              "    </tr>\n",
              "  </thead>\n",
              "  <tbody>\n",
              "    <tr>\n",
              "      <th>13</th>\n",
              "      <td>True</td>\n",
              "      <td>Torre I Mondrian. 3 ambientes con terraza y d...</td>\n",
              "    </tr>\n",
              "    <tr>\n",
              "      <th>14</th>\n",
              "      <td>True</td>\n",
              "      <td>Torre II Dalí. Ambiente unico divisible.Vitrau...</td>\n",
              "    </tr>\n",
              "    <tr>\n",
              "      <th>219</th>\n",
              "      <td>True</td>\n",
              "      <td>Piso  en  Belgrano  entre  Villanueva y Luis  ...</td>\n",
              "    </tr>\n",
              "    <tr>\n",
              "      <th>223</th>\n",
              "      <td>True</td>\n",
              "      <td>Máxima categoría en ubicación y terminacionesA...</td>\n",
              "    </tr>\n",
              "    <tr>\n",
              "      <th>225</th>\n",
              "      <td>True</td>\n",
              "      <td>Emplazado en el corzaón de Nuñez, Pedraza Plaz...</td>\n",
              "    </tr>\n",
              "    <tr>\n",
              "      <th>226</th>\n",
              "      <td>True</td>\n",
              "      <td>Emplazado en el corzaón de Nuñez, Pedraza Plaz...</td>\n",
              "    </tr>\n",
              "    <tr>\n",
              "      <th>229</th>\n",
              "      <td>True</td>\n",
              "      <td>Monoambientes a la venta, en inmejorable zona ...</td>\n",
              "    </tr>\n",
              "    <tr>\n",
              "      <th>244</th>\n",
              "      <td>True</td>\n",
              "      <td>- Departamento de 4 ambientes- Pasante- Cocher...</td>\n",
              "    </tr>\n",
              "    <tr>\n",
              "      <th>252</th>\n",
              "      <td>True</td>\n",
              "      <td>MADERO HARBOUR HOUSE. ESPECTACULAR DEPARTAMENT...</td>\n",
              "    </tr>\n",
              "    <tr>\n",
              "      <th>270</th>\n",
              "      <td>True</td>\n",
              "      <td>CODIGO:  ubicado en: Ricardo Balbin DR. 4300 -...</td>\n",
              "    </tr>\n",
              "    <tr>\n",
              "      <th>271</th>\n",
              "      <td>True</td>\n",
              "      <td>CODIGO:  ubicado en: Ricardo Balbin DR. 4300 -...</td>\n",
              "    </tr>\n",
              "    <tr>\n",
              "      <th>282</th>\n",
              "      <td>True</td>\n",
              "      <td>Venta - Departamento - Argentina, Buenos Aires...</td>\n",
              "    </tr>\n",
              "    <tr>\n",
              "      <th>385</th>\n",
              "      <td>True</td>\n",
              "      <td>*** EMPRENDIMIENTO FREIRE 2660 ***FREIRE 2660 ...</td>\n",
              "    </tr>\n",
              "    <tr>\n",
              "      <th>403</th>\n",
              "      <td>True</td>\n",
              "      <td>Gran OPORTUNIDAD de inversión a PRECIO CERRADO...</td>\n",
              "    </tr>\n",
              "    <tr>\n",
              "      <th>565</th>\n",
              "      <td>True</td>\n",
              "      <td>*** EMPRENDIMIENTO FREIRE 2660 ***FREIRE 2660 ...</td>\n",
              "    </tr>\n",
              "    <tr>\n",
              "      <th>647</th>\n",
              "      <td>True</td>\n",
              "      <td>Excelente monoambiente a estrenar en una de la...</td>\n",
              "    </tr>\n",
              "    <tr>\n",
              "      <th>648</th>\n",
              "      <td>True</td>\n",
              "      <td>Excelente monoambiente a estrenar en una de la...</td>\n",
              "    </tr>\n",
              "    <tr>\n",
              "      <th>1008</th>\n",
              "      <td>True</td>\n",
              "      <td>Excelente 2-ambientes divisible con gimnasio y...</td>\n",
              "    </tr>\n",
              "    <tr>\n",
              "      <th>1065</th>\n",
              "      <td>True</td>\n",
              "      <td>Lindisimo departamento con la mejor orientaciÃ...</td>\n",
              "    </tr>\n",
              "    <tr>\n",
              "      <th>1090</th>\n",
              "      <td>True</td>\n",
              "      <td>Edificio Bulnes Tower, arquitecto Tiscornia, a...</td>\n",
              "    </tr>\n",
              "    <tr>\n",
              "      <th>1098</th>\n",
              "      <td>True</td>\n",
              "      <td>Inmejorable ubicación en  la esquina de Av. Li...</td>\n",
              "    </tr>\n",
              "    <tr>\n",
              "      <th>1099</th>\n",
              "      <td>True</td>\n",
              "      <td>Inmejorable ubicación en  la esquina de Av. Li...</td>\n",
              "    </tr>\n",
              "    <tr>\n",
              "      <th>1100</th>\n",
              "      <td>True</td>\n",
              "      <td>Inmejorable ubicación en  la esquina de Av. Li...</td>\n",
              "    </tr>\n",
              "    <tr>\n",
              "      <th>1101</th>\n",
              "      <td>True</td>\n",
              "      <td>Inmejorable ubicación en  la esquina de Av. Li...</td>\n",
              "    </tr>\n",
              "    <tr>\n",
              "      <th>1102</th>\n",
              "      <td>True</td>\n",
              "      <td>Inmejorable ubicación en  la esquina de Av. Li...</td>\n",
              "    </tr>\n",
              "    <tr>\n",
              "      <th>1103</th>\n",
              "      <td>True</td>\n",
              "      <td>Inmejorable ubicación en  la esquina de Av. Li...</td>\n",
              "    </tr>\n",
              "    <tr>\n",
              "      <th>1104</th>\n",
              "      <td>True</td>\n",
              "      <td>Inmejorable ubicación en  la esquina de Av. Li...</td>\n",
              "    </tr>\n",
              "    <tr>\n",
              "      <th>1105</th>\n",
              "      <td>True</td>\n",
              "      <td>Inmejorable ubicación en  la esquina de Av. Li...</td>\n",
              "    </tr>\n",
              "    <tr>\n",
              "      <th>1106</th>\n",
              "      <td>True</td>\n",
              "      <td>Inmejorable ubicación en  la esquina de Av. Li...</td>\n",
              "    </tr>\n",
              "    <tr>\n",
              "      <th>1107</th>\n",
              "      <td>True</td>\n",
              "      <td>Inmejorable ubicación en  la esquina de Av. Li...</td>\n",
              "    </tr>\n",
              "    <tr>\n",
              "      <th>...</th>\n",
              "      <td>...</td>\n",
              "      <td>...</td>\n",
              "    </tr>\n",
              "    <tr>\n",
              "      <th>121025</th>\n",
              "      <td>True</td>\n",
              "      <td>Torre de 16º pisos ubicado en pleno centro com...</td>\n",
              "    </tr>\n",
              "    <tr>\n",
              "      <th>121026</th>\n",
              "      <td>True</td>\n",
              "      <td>Torre de 16º pisos ubicado en pleno centro com...</td>\n",
              "    </tr>\n",
              "    <tr>\n",
              "      <th>121027</th>\n",
              "      <td>True</td>\n",
              "      <td>Torre de 16º pisos ubicado en pleno centro com...</td>\n",
              "    </tr>\n",
              "    <tr>\n",
              "      <th>121028</th>\n",
              "      <td>True</td>\n",
              "      <td>Torre de 16º pisos ubicado en pleno centro com...</td>\n",
              "    </tr>\n",
              "    <tr>\n",
              "      <th>121029</th>\n",
              "      <td>True</td>\n",
              "      <td>Torre de 16º pisos ubicado en pleno centro com...</td>\n",
              "    </tr>\n",
              "    <tr>\n",
              "      <th>121030</th>\n",
              "      <td>True</td>\n",
              "      <td>Torre de 16º pisos ubicado en pleno centro com...</td>\n",
              "    </tr>\n",
              "    <tr>\n",
              "      <th>121031</th>\n",
              "      <td>True</td>\n",
              "      <td>Torre de 16º pisos ubicado en pleno centro com...</td>\n",
              "    </tr>\n",
              "    <tr>\n",
              "      <th>121033</th>\n",
              "      <td>True</td>\n",
              "      <td>Torre de 16º pisos ubicado en pleno centro com...</td>\n",
              "    </tr>\n",
              "    <tr>\n",
              "      <th>121035</th>\n",
              "      <td>True</td>\n",
              "      <td>Torre de 16º pisos ubicado en pleno centro com...</td>\n",
              "    </tr>\n",
              "    <tr>\n",
              "      <th>121036</th>\n",
              "      <td>True</td>\n",
              "      <td>Torre de 16º pisos ubicado en pleno centro com...</td>\n",
              "    </tr>\n",
              "    <tr>\n",
              "      <th>121037</th>\n",
              "      <td>True</td>\n",
              "      <td>Torre de 16º pisos ubicado en pleno centro com...</td>\n",
              "    </tr>\n",
              "    <tr>\n",
              "      <th>121038</th>\n",
              "      <td>True</td>\n",
              "      <td>Torre de 16º pisos ubicado en pleno centro com...</td>\n",
              "    </tr>\n",
              "    <tr>\n",
              "      <th>121039</th>\n",
              "      <td>True</td>\n",
              "      <td>Torre de 16º pisos ubicado en pleno centro com...</td>\n",
              "    </tr>\n",
              "    <tr>\n",
              "      <th>121040</th>\n",
              "      <td>True</td>\n",
              "      <td>Torre de 16º pisos ubicado en pleno centro com...</td>\n",
              "    </tr>\n",
              "    <tr>\n",
              "      <th>121041</th>\n",
              "      <td>True</td>\n",
              "      <td>Torre de 16º pisos ubicado en pleno centro com...</td>\n",
              "    </tr>\n",
              "    <tr>\n",
              "      <th>121042</th>\n",
              "      <td>True</td>\n",
              "      <td>Torre de 16º pisos ubicado en pleno centro com...</td>\n",
              "    </tr>\n",
              "    <tr>\n",
              "      <th>121043</th>\n",
              "      <td>True</td>\n",
              "      <td>Torre de 16º pisos ubicado en pleno centro com...</td>\n",
              "    </tr>\n",
              "    <tr>\n",
              "      <th>121044</th>\n",
              "      <td>True</td>\n",
              "      <td>Torre de 16º pisos ubicado en pleno centro com...</td>\n",
              "    </tr>\n",
              "    <tr>\n",
              "      <th>121045</th>\n",
              "      <td>True</td>\n",
              "      <td>Torre de 16º pisos ubicado en pleno centro com...</td>\n",
              "    </tr>\n",
              "    <tr>\n",
              "      <th>121046</th>\n",
              "      <td>True</td>\n",
              "      <td>Torre de 16º pisos ubicado en pleno centro com...</td>\n",
              "    </tr>\n",
              "    <tr>\n",
              "      <th>121047</th>\n",
              "      <td>True</td>\n",
              "      <td>Torre de 16º pisos ubicado en pleno centro com...</td>\n",
              "    </tr>\n",
              "    <tr>\n",
              "      <th>121048</th>\n",
              "      <td>True</td>\n",
              "      <td>Torre de 16º pisos ubicado en pleno centro com...</td>\n",
              "    </tr>\n",
              "    <tr>\n",
              "      <th>121049</th>\n",
              "      <td>True</td>\n",
              "      <td>Torre de 16º pisos ubicado en pleno centro com...</td>\n",
              "    </tr>\n",
              "    <tr>\n",
              "      <th>121051</th>\n",
              "      <td>True</td>\n",
              "      <td>Torre de 16º pisos ubicado en pleno centro com...</td>\n",
              "    </tr>\n",
              "    <tr>\n",
              "      <th>121052</th>\n",
              "      <td>True</td>\n",
              "      <td>Torre de 16º pisos ubicado en pleno centro com...</td>\n",
              "    </tr>\n",
              "    <tr>\n",
              "      <th>121093</th>\n",
              "      <td>True</td>\n",
              "      <td>EXCELENTE DEPTO IMPECABLE ESTADO, PISO ALTO VI...</td>\n",
              "    </tr>\n",
              "    <tr>\n",
              "      <th>121100</th>\n",
              "      <td>True</td>\n",
              "      <td>EXCELENTE DEPTO IMPECABLE ESTADO, PISO ALTO VI...</td>\n",
              "    </tr>\n",
              "    <tr>\n",
              "      <th>121120</th>\n",
              "      <td>True</td>\n",
              "      <td>Monoambiente divididoQuedando un hermoso 2 amb...</td>\n",
              "    </tr>\n",
              "    <tr>\n",
              "      <th>121138</th>\n",
              "      <td>True</td>\n",
              "      <td>VENTA CON RENTA DEPARTAMENTO DE 2 AMBIENTES A ...</td>\n",
              "    </tr>\n",
              "    <tr>\n",
              "      <th>121157</th>\n",
              "      <td>True</td>\n",
              "      <td>Torre de 16º pisos ubicado en pleno centro com...</td>\n",
              "    </tr>\n",
              "  </tbody>\n",
              "</table>\n",
              "<p>3772 rows × 2 columns</p>\n",
              "</div>"
            ],
            "text/plain": [
              "        gimnasio                                        description\n",
              "13          True   Torre I Mondrian. 3 ambientes con terraza y d...\n",
              "14          True  Torre II Dalí. Ambiente unico divisible.Vitrau...\n",
              "219         True  Piso  en  Belgrano  entre  Villanueva y Luis  ...\n",
              "223         True  Máxima categoría en ubicación y terminacionesA...\n",
              "225         True  Emplazado en el corzaón de Nuñez, Pedraza Plaz...\n",
              "226         True  Emplazado en el corzaón de Nuñez, Pedraza Plaz...\n",
              "229         True  Monoambientes a la venta, en inmejorable zona ...\n",
              "244         True  - Departamento de 4 ambientes- Pasante- Cocher...\n",
              "252         True  MADERO HARBOUR HOUSE. ESPECTACULAR DEPARTAMENT...\n",
              "270         True  CODIGO:  ubicado en: Ricardo Balbin DR. 4300 -...\n",
              "271         True  CODIGO:  ubicado en: Ricardo Balbin DR. 4300 -...\n",
              "282         True  Venta - Departamento - Argentina, Buenos Aires...\n",
              "385         True  *** EMPRENDIMIENTO FREIRE 2660 ***FREIRE 2660 ...\n",
              "403         True  Gran OPORTUNIDAD de inversión a PRECIO CERRADO...\n",
              "565         True  *** EMPRENDIMIENTO FREIRE 2660 ***FREIRE 2660 ...\n",
              "647         True  Excelente monoambiente a estrenar en una de la...\n",
              "648         True  Excelente monoambiente a estrenar en una de la...\n",
              "1008        True  Excelente 2-ambientes divisible con gimnasio y...\n",
              "1065        True  Lindisimo departamento con la mejor orientaciÃ...\n",
              "1090        True  Edificio Bulnes Tower, arquitecto Tiscornia, a...\n",
              "1098        True  Inmejorable ubicación en  la esquina de Av. Li...\n",
              "1099        True  Inmejorable ubicación en  la esquina de Av. Li...\n",
              "1100        True  Inmejorable ubicación en  la esquina de Av. Li...\n",
              "1101        True  Inmejorable ubicación en  la esquina de Av. Li...\n",
              "1102        True  Inmejorable ubicación en  la esquina de Av. Li...\n",
              "1103        True  Inmejorable ubicación en  la esquina de Av. Li...\n",
              "1104        True  Inmejorable ubicación en  la esquina de Av. Li...\n",
              "1105        True  Inmejorable ubicación en  la esquina de Av. Li...\n",
              "1106        True  Inmejorable ubicación en  la esquina de Av. Li...\n",
              "1107        True  Inmejorable ubicación en  la esquina de Av. Li...\n",
              "...          ...                                                ...\n",
              "121025      True  Torre de 16º pisos ubicado en pleno centro com...\n",
              "121026      True  Torre de 16º pisos ubicado en pleno centro com...\n",
              "121027      True  Torre de 16º pisos ubicado en pleno centro com...\n",
              "121028      True  Torre de 16º pisos ubicado en pleno centro com...\n",
              "121029      True  Torre de 16º pisos ubicado en pleno centro com...\n",
              "121030      True  Torre de 16º pisos ubicado en pleno centro com...\n",
              "121031      True  Torre de 16º pisos ubicado en pleno centro com...\n",
              "121033      True  Torre de 16º pisos ubicado en pleno centro com...\n",
              "121035      True  Torre de 16º pisos ubicado en pleno centro com...\n",
              "121036      True  Torre de 16º pisos ubicado en pleno centro com...\n",
              "121037      True  Torre de 16º pisos ubicado en pleno centro com...\n",
              "121038      True  Torre de 16º pisos ubicado en pleno centro com...\n",
              "121039      True  Torre de 16º pisos ubicado en pleno centro com...\n",
              "121040      True  Torre de 16º pisos ubicado en pleno centro com...\n",
              "121041      True  Torre de 16º pisos ubicado en pleno centro com...\n",
              "121042      True  Torre de 16º pisos ubicado en pleno centro com...\n",
              "121043      True  Torre de 16º pisos ubicado en pleno centro com...\n",
              "121044      True  Torre de 16º pisos ubicado en pleno centro com...\n",
              "121045      True  Torre de 16º pisos ubicado en pleno centro com...\n",
              "121046      True  Torre de 16º pisos ubicado en pleno centro com...\n",
              "121047      True  Torre de 16º pisos ubicado en pleno centro com...\n",
              "121048      True  Torre de 16º pisos ubicado en pleno centro com...\n",
              "121049      True  Torre de 16º pisos ubicado en pleno centro com...\n",
              "121051      True  Torre de 16º pisos ubicado en pleno centro com...\n",
              "121052      True  Torre de 16º pisos ubicado en pleno centro com...\n",
              "121093      True  EXCELENTE DEPTO IMPECABLE ESTADO, PISO ALTO VI...\n",
              "121100      True  EXCELENTE DEPTO IMPECABLE ESTADO, PISO ALTO VI...\n",
              "121120      True  Monoambiente divididoQuedando un hermoso 2 amb...\n",
              "121138      True  VENTA CON RENTA DEPARTAMENTO DE 2 AMBIENTES A ...\n",
              "121157      True  Torre de 16º pisos ubicado en pleno centro com...\n",
              "\n",
              "[3772 rows x 2 columns]"
            ]
          },
          "metadata": {
            "tags": []
          },
          "execution_count": 5
        }
      ]
    },
    {
      "metadata": {
        "id": "NGeBwbZPgAqv",
        "colab_type": "text"
      },
      "cell_type": "markdown",
      "source": [
        "## 4.2 Tratamiento variable description"
      ]
    },
    {
      "metadata": {
        "id": "hW0EDTQKgAqx",
        "colab_type": "code",
        "colab": {},
        "collapsed": true,
        "outputId": "d7a16bcd-15e6-4c4e-f315-c28b5339381d"
      },
      "cell_type": "code",
      "source": [
        "#Convierto todo a minuscula\n",
        "deptos_capital[\"description\"] =deptos_capital[\"description\"].str.lower() \n",
        "\n",
        "#Reemplazo los numeros escritos en letras por digitos\n",
        "lista = ['un','dos','tres', 'cuatro', 'cinco', 'seis', 'siete', 'ocho', 'nueve']\n",
        "for i in range(len(lista)):\n",
        "    deptos_capital['description'] = deptos_capital['description'].str.replace(lista[i],str(i+1))\n",
        "\n",
        "#Reemplazo los monoambientes\n",
        "deptos_capital[\"description\"] =deptos_capital[\"description\"].str.replace('monoambiente','1 ambiente')\n",
        "deptos_capital[\"description\"]"
      ],
      "execution_count": 0,
      "outputs": [
        {
          "output_type": "execute_result",
          "data": {
            "text/plain": [
              "0        2 ambientes 3er piso lateral living comedor am...\n",
              "1        excelente 1 ambiente a estrenar amplio super l...\n",
              "2        excelente 2 ambientes  estrenar amplio super l...\n",
              "3         torre i mondrian. 3 ambientes con terraza y 2...\n",
              "4        torre ii dalã­. ambiente 1ico divisible.vitrau...\n",
              "5        excelente semipiso al contra frente en bulnes ...\n",
              "6        excelente zona, multiples medios de transporte...\n",
              "7        departamento muy luminoso con to2 sus ambiente...\n",
              "8        hermoso departamento de 4 ambientes, refaccion...\n",
              "9        espectacular loft de exclusivo diseã±o, 210 ms...\n",
              "10       piso 13, orientaciã³n norte, disposiciã³n al f...\n",
              "11       departamento de 3 ambientes al contrafrente. s...\n",
              "12       14 exclusivos semi-pisos.excelentes detalles d...\n",
              "13       excelentes detalles de terminaciã³n, y diseã±o...\n",
              "14       excelentes detalles de terminaciã³n, y diseã±o...\n",
              "15       al frente muy luminoso.living comedor, a balco...\n",
              "16       espectacular departamento de 2 ambientes con c...\n",
              "17       codigo: 5 ubicado en: avenida independencia 26...\n",
              "18       torre de 15 pisos con amenities ubica2 en el u...\n",
              "19       venta de departamento 2 ambientes en almagro, ...\n",
              "20       depto de 3 amb. c/cochera cubierta, en piso 12...\n",
              "21       corredor responsable: daniel acosta - cucicba ...\n",
              "22       corredor responsable: mariano aufseher - cucic...\n",
              "23       corredor responsable: mariano aufseher - cucic...\n",
              "24       corredor responsable: alejandro botta - cucicb...\n",
              "25       los equipos de aire acondicionado no estan inc...\n",
              "26       emprendimiento premium en villa crespoideal in...\n",
              "27       emprendimiento premium en villa crespoideal in...\n",
              "28       excelente 2 ambientes orientacion este, muy lu...\n",
              "29       duplex con cochera fija cubierta 3 aãos de an...\n",
              "                               ...                        \n",
              "25033    venta 4 ambientes c/dependencia y cochera en b...\n",
              "25034    departamentos semipisos en venta de 3 ambiente...\n",
              "25035    departamento piso en venta de 3 ambientes en p...\n",
              "25036    excelente depto impecable estado, piso alto vi...\n",
              "25037    departamento piso en venta de 4 ambientes en p...\n",
              "25038    venta 4 ambientes c/dependencia y cochera en b...\n",
              "25039    hermoso 2 ambientes en pleno belgrano ,moldes ...\n",
              "25040    - living comedor con salida a balcã³n de 2.90 ...\n",
              "25041    amplio 3 ambientes en pleno palermo, a 1a cuad...\n",
              "25042    1 ambiente divididoquedando 1 hermoso 2 ambien...\n",
              "25043    1 ambiente con renta hasta febrero 2018 $ 5000...\n",
              "25044    departamentos semipisos en venta de 3 ambiente...\n",
              "25045    excelente departamento ubicado en lo mejor de ...\n",
              "25046    excelente semipiso al frente de 4 ambientes. e...\n",
              "25047    1 ambiente nuevo en el complejo cabildo estudi...\n",
              "25048    excelente 1 ambiente nuevo en el moderno compl...\n",
              "25049    excelente 1 ambiente nuevo en el moderno compl...\n",
              "25050    venta con renta departamento de 2 ambientes a ...\n",
              "25051    venta piso con cochera en palermomuy buena ubi...\n",
              "25052    depto. en primer piso por escalera, de 2 habit...\n",
              "25053    departamento al frente con balcã³n, 2 dormitor...\n",
              "25054    1 ambiente divisible en 3 piso al frente con b...\n",
              "25055    excelente departamento con terraza propia y pa...\n",
              "25056    torre de 16âº pisos ubicado en pleno centro co...\n",
              "25057    excelente ubicaciã³n - avenida pueyrredon y la...\n",
              "25058    edificio en esquina de muy buena categorã­a de...\n",
              "25059    edificio en esquina de muy buena categorã­a de...\n",
              "25060    torre forum alcorta - mãxima categorãa.impec...\n",
              "25061    venta departamento ambiente divisible a estren...\n",
              "25062    departamento de 77 m2 apto profesional. edific...\n",
              "Name: description, Length: 25063, dtype: object"
            ]
          },
          "metadata": {
            "tags": []
          },
          "execution_count": 78
        }
      ]
    },
    {
      "metadata": {
        "id": "Coj_YiLpgAq5",
        "colab_type": "text"
      },
      "cell_type": "markdown",
      "source": [
        "## 4.3 REGEX para extraer ambientes de la variable description "
      ]
    },
    {
      "metadata": {
        "id": "f0m6bqnlgAq9",
        "colab_type": "code",
        "colab": {},
        "outputId": "df94c1be-debe-4699-e7cd-fac4cbd6fc5b"
      },
      "cell_type": "code",
      "source": [
        "\n",
        "deptos_capital[\"ambientes_regex\"] = deptos_capital['description'].str.extract(\"[\\s\\.](\\d) amb\")\n",
        "\n",
        "#Combino las columnas rooms y ambientes regex para tener una sola consolidada\n",
        "\n",
        "deptos_capital['ambientes_final'] = deptos_capital.rooms.combine_first(deptos_capital.ambientes_regex)\n",
        "    \n",
        "\n",
        "deptos_capital[[\"description\",\"ambientes_regex\",\"rooms\",\"ambientes_final\"]].head()"
      ],
      "execution_count": 0,
      "outputs": [
        {
          "output_type": "execute_result",
          "data": {
            "text/html": [
              "<div>\n",
              "<style scoped>\n",
              "    .dataframe tbody tr th:only-of-type {\n",
              "        vertical-align: middle;\n",
              "    }\n",
              "\n",
              "    .dataframe tbody tr th {\n",
              "        vertical-align: top;\n",
              "    }\n",
              "\n",
              "    .dataframe thead th {\n",
              "        text-align: right;\n",
              "    }\n",
              "</style>\n",
              "<table border=\"1\" class=\"dataframe\">\n",
              "  <thead>\n",
              "    <tr style=\"text-align: right;\">\n",
              "      <th></th>\n",
              "      <th>description</th>\n",
              "      <th>ambientes_regex</th>\n",
              "      <th>rooms</th>\n",
              "      <th>ambientes_final</th>\n",
              "    </tr>\n",
              "  </thead>\n",
              "  <tbody>\n",
              "    <tr>\n",
              "      <th>0</th>\n",
              "      <td>2 ambientes 3er piso lateral living comedor am...</td>\n",
              "      <td>2</td>\n",
              "      <td>NaN</td>\n",
              "      <td>2</td>\n",
              "    </tr>\n",
              "    <tr>\n",
              "      <th>1</th>\n",
              "      <td>excelente 1 ambiente a estrenar amplio super l...</td>\n",
              "      <td>1</td>\n",
              "      <td>NaN</td>\n",
              "      <td>1</td>\n",
              "    </tr>\n",
              "    <tr>\n",
              "      <th>2</th>\n",
              "      <td>excelente 2 ambientes  estrenar amplio super l...</td>\n",
              "      <td>2</td>\n",
              "      <td>NaN</td>\n",
              "      <td>2</td>\n",
              "    </tr>\n",
              "    <tr>\n",
              "      <th>3</th>\n",
              "      <td>torre i mondrian. 3 ambientes con terraza y 2...</td>\n",
              "      <td>3</td>\n",
              "      <td>1.0</td>\n",
              "      <td>1</td>\n",
              "    </tr>\n",
              "    <tr>\n",
              "      <th>4</th>\n",
              "      <td>torre ii dalã­. ambiente 1ico divisible.vitrau...</td>\n",
              "      <td>NaN</td>\n",
              "      <td>1.0</td>\n",
              "      <td>1</td>\n",
              "    </tr>\n",
              "    <tr>\n",
              "      <th>5</th>\n",
              "      <td>excelente semipiso al contra frente en bulnes ...</td>\n",
              "      <td>NaN</td>\n",
              "      <td>3.0</td>\n",
              "      <td>3</td>\n",
              "    </tr>\n",
              "    <tr>\n",
              "      <th>6</th>\n",
              "      <td>excelente zona, multiples medios de transporte...</td>\n",
              "      <td>NaN</td>\n",
              "      <td>4.0</td>\n",
              "      <td>4</td>\n",
              "    </tr>\n",
              "    <tr>\n",
              "      <th>7</th>\n",
              "      <td>departamento muy luminoso con to2 sus ambiente...</td>\n",
              "      <td>NaN</td>\n",
              "      <td>2.0</td>\n",
              "      <td>2</td>\n",
              "    </tr>\n",
              "    <tr>\n",
              "      <th>8</th>\n",
              "      <td>hermoso departamento de 4 ambientes, refaccion...</td>\n",
              "      <td>4</td>\n",
              "      <td>4.0</td>\n",
              "      <td>4</td>\n",
              "    </tr>\n",
              "    <tr>\n",
              "      <th>9</th>\n",
              "      <td>espectacular loft de exclusivo diseã±o, 210 ms...</td>\n",
              "      <td>5</td>\n",
              "      <td>3.0</td>\n",
              "      <td>3</td>\n",
              "    </tr>\n",
              "    <tr>\n",
              "      <th>10</th>\n",
              "      <td>piso 13, orientaciã³n norte, disposiciã³n al f...</td>\n",
              "      <td>NaN</td>\n",
              "      <td>5.0</td>\n",
              "      <td>5</td>\n",
              "    </tr>\n",
              "    <tr>\n",
              "      <th>11</th>\n",
              "      <td>departamento de 3 ambientes al contrafrente. s...</td>\n",
              "      <td>3</td>\n",
              "      <td>3.0</td>\n",
              "      <td>3</td>\n",
              "    </tr>\n",
              "    <tr>\n",
              "      <th>12</th>\n",
              "      <td>14 exclusivos semi-pisos.excelentes detalles d...</td>\n",
              "      <td>NaN</td>\n",
              "      <td>2.0</td>\n",
              "      <td>2</td>\n",
              "    </tr>\n",
              "    <tr>\n",
              "      <th>13</th>\n",
              "      <td>excelentes detalles de terminaciã³n, y diseã±o...</td>\n",
              "      <td>NaN</td>\n",
              "      <td>3.0</td>\n",
              "      <td>3</td>\n",
              "    </tr>\n",
              "    <tr>\n",
              "      <th>14</th>\n",
              "      <td>excelentes detalles de terminaciã³n, y diseã±o...</td>\n",
              "      <td>NaN</td>\n",
              "      <td>3.0</td>\n",
              "      <td>3</td>\n",
              "    </tr>\n",
              "    <tr>\n",
              "      <th>15</th>\n",
              "      <td>al frente muy luminoso.living comedor, a balco...</td>\n",
              "      <td>NaN</td>\n",
              "      <td>3.0</td>\n",
              "      <td>3</td>\n",
              "    </tr>\n",
              "    <tr>\n",
              "      <th>16</th>\n",
              "      <td>espectacular departamento de 2 ambientes con c...</td>\n",
              "      <td>2</td>\n",
              "      <td>2.0</td>\n",
              "      <td>2</td>\n",
              "    </tr>\n",
              "    <tr>\n",
              "      <th>17</th>\n",
              "      <td>codigo: 5 ubicado en: avenida independencia 26...</td>\n",
              "      <td>1</td>\n",
              "      <td>NaN</td>\n",
              "      <td>1</td>\n",
              "    </tr>\n",
              "    <tr>\n",
              "      <th>18</th>\n",
              "      <td>torre de 15 pisos con amenities ubica2 en el u...</td>\n",
              "      <td>2</td>\n",
              "      <td>1.0</td>\n",
              "      <td>1</td>\n",
              "    </tr>\n",
              "    <tr>\n",
              "      <th>19</th>\n",
              "      <td>venta de departamento 2 ambientes en almagro, ...</td>\n",
              "      <td>2</td>\n",
              "      <td>2.0</td>\n",
              "      <td>2</td>\n",
              "    </tr>\n",
              "    <tr>\n",
              "      <th>20</th>\n",
              "      <td>depto de 3 amb. c/cochera cubierta, en piso 12...</td>\n",
              "      <td>3</td>\n",
              "      <td>NaN</td>\n",
              "      <td>3</td>\n",
              "    </tr>\n",
              "    <tr>\n",
              "      <th>21</th>\n",
              "      <td>corredor responsable: daniel acosta - cucicba ...</td>\n",
              "      <td>4</td>\n",
              "      <td>4.0</td>\n",
              "      <td>4</td>\n",
              "    </tr>\n",
              "    <tr>\n",
              "      <th>22</th>\n",
              "      <td>corredor responsable: mariano aufseher - cucic...</td>\n",
              "      <td>2</td>\n",
              "      <td>2.0</td>\n",
              "      <td>2</td>\n",
              "    </tr>\n",
              "    <tr>\n",
              "      <th>23</th>\n",
              "      <td>corredor responsable: mariano aufseher - cucic...</td>\n",
              "      <td>NaN</td>\n",
              "      <td>NaN</td>\n",
              "      <td>NaN</td>\n",
              "    </tr>\n",
              "    <tr>\n",
              "      <th>24</th>\n",
              "      <td>corredor responsable: alejandro botta - cucicb...</td>\n",
              "      <td>1</td>\n",
              "      <td>1.0</td>\n",
              "      <td>1</td>\n",
              "    </tr>\n",
              "    <tr>\n",
              "      <th>25</th>\n",
              "      <td>los equipos de aire acondicionado no estan inc...</td>\n",
              "      <td>NaN</td>\n",
              "      <td>7.0</td>\n",
              "      <td>7</td>\n",
              "    </tr>\n",
              "    <tr>\n",
              "      <th>26</th>\n",
              "      <td>emprendimiento premium en villa crespoideal in...</td>\n",
              "      <td>NaN</td>\n",
              "      <td>1.0</td>\n",
              "      <td>1</td>\n",
              "    </tr>\n",
              "    <tr>\n",
              "      <th>27</th>\n",
              "      <td>emprendimiento premium en villa crespoideal in...</td>\n",
              "      <td>NaN</td>\n",
              "      <td>1.0</td>\n",
              "      <td>1</td>\n",
              "    </tr>\n",
              "    <tr>\n",
              "      <th>28</th>\n",
              "      <td>excelente 2 ambientes orientacion este, muy lu...</td>\n",
              "      <td>2</td>\n",
              "      <td>2.0</td>\n",
              "      <td>2</td>\n",
              "    </tr>\n",
              "    <tr>\n",
              "      <th>29</th>\n",
              "      <td>duplex con cochera fija cubierta 3 aãos de an...</td>\n",
              "      <td>NaN</td>\n",
              "      <td>2.0</td>\n",
              "      <td>2</td>\n",
              "    </tr>\n",
              "    <tr>\n",
              "      <th>...</th>\n",
              "      <td>...</td>\n",
              "      <td>...</td>\n",
              "      <td>...</td>\n",
              "      <td>...</td>\n",
              "    </tr>\n",
              "    <tr>\n",
              "      <th>25033</th>\n",
              "      <td>venta 4 ambientes c/dependencia y cochera en b...</td>\n",
              "      <td>4</td>\n",
              "      <td>NaN</td>\n",
              "      <td>4</td>\n",
              "    </tr>\n",
              "    <tr>\n",
              "      <th>25034</th>\n",
              "      <td>departamentos semipisos en venta de 3 ambiente...</td>\n",
              "      <td>3</td>\n",
              "      <td>NaN</td>\n",
              "      <td>3</td>\n",
              "    </tr>\n",
              "    <tr>\n",
              "      <th>25035</th>\n",
              "      <td>departamento piso en venta de 3 ambientes en p...</td>\n",
              "      <td>3</td>\n",
              "      <td>NaN</td>\n",
              "      <td>3</td>\n",
              "    </tr>\n",
              "    <tr>\n",
              "      <th>25036</th>\n",
              "      <td>excelente depto impecable estado, piso alto vi...</td>\n",
              "      <td>NaN</td>\n",
              "      <td>NaN</td>\n",
              "      <td>NaN</td>\n",
              "    </tr>\n",
              "    <tr>\n",
              "      <th>25037</th>\n",
              "      <td>departamento piso en venta de 4 ambientes en p...</td>\n",
              "      <td>4</td>\n",
              "      <td>NaN</td>\n",
              "      <td>4</td>\n",
              "    </tr>\n",
              "    <tr>\n",
              "      <th>25038</th>\n",
              "      <td>venta 4 ambientes c/dependencia y cochera en b...</td>\n",
              "      <td>4</td>\n",
              "      <td>NaN</td>\n",
              "      <td>4</td>\n",
              "    </tr>\n",
              "    <tr>\n",
              "      <th>25039</th>\n",
              "      <td>hermoso 2 ambientes en pleno belgrano ,moldes ...</td>\n",
              "      <td>2</td>\n",
              "      <td>NaN</td>\n",
              "      <td>2</td>\n",
              "    </tr>\n",
              "    <tr>\n",
              "      <th>25040</th>\n",
              "      <td>- living comedor con salida a balcã³n de 2.90 ...</td>\n",
              "      <td>NaN</td>\n",
              "      <td>NaN</td>\n",
              "      <td>NaN</td>\n",
              "    </tr>\n",
              "    <tr>\n",
              "      <th>25041</th>\n",
              "      <td>amplio 3 ambientes en pleno palermo, a 1a cuad...</td>\n",
              "      <td>3</td>\n",
              "      <td>NaN</td>\n",
              "      <td>3</td>\n",
              "    </tr>\n",
              "    <tr>\n",
              "      <th>25042</th>\n",
              "      <td>1 ambiente divididoquedando 1 hermoso 2 ambien...</td>\n",
              "      <td>1</td>\n",
              "      <td>NaN</td>\n",
              "      <td>1</td>\n",
              "    </tr>\n",
              "    <tr>\n",
              "      <th>25043</th>\n",
              "      <td>1 ambiente con renta hasta febrero 2018 $ 5000...</td>\n",
              "      <td>1</td>\n",
              "      <td>NaN</td>\n",
              "      <td>1</td>\n",
              "    </tr>\n",
              "    <tr>\n",
              "      <th>25044</th>\n",
              "      <td>departamentos semipisos en venta de 3 ambiente...</td>\n",
              "      <td>3</td>\n",
              "      <td>NaN</td>\n",
              "      <td>3</td>\n",
              "    </tr>\n",
              "    <tr>\n",
              "      <th>25045</th>\n",
              "      <td>excelente departamento ubicado en lo mejor de ...</td>\n",
              "      <td>NaN</td>\n",
              "      <td>NaN</td>\n",
              "      <td>NaN</td>\n",
              "    </tr>\n",
              "    <tr>\n",
              "      <th>25046</th>\n",
              "      <td>excelente semipiso al frente de 4 ambientes. e...</td>\n",
              "      <td>4</td>\n",
              "      <td>NaN</td>\n",
              "      <td>4</td>\n",
              "    </tr>\n",
              "    <tr>\n",
              "      <th>25047</th>\n",
              "      <td>1 ambiente nuevo en el complejo cabildo estudi...</td>\n",
              "      <td>1</td>\n",
              "      <td>NaN</td>\n",
              "      <td>1</td>\n",
              "    </tr>\n",
              "    <tr>\n",
              "      <th>25048</th>\n",
              "      <td>excelente 1 ambiente nuevo en el moderno compl...</td>\n",
              "      <td>1</td>\n",
              "      <td>NaN</td>\n",
              "      <td>1</td>\n",
              "    </tr>\n",
              "    <tr>\n",
              "      <th>25049</th>\n",
              "      <td>excelente 1 ambiente nuevo en el moderno compl...</td>\n",
              "      <td>1</td>\n",
              "      <td>NaN</td>\n",
              "      <td>1</td>\n",
              "    </tr>\n",
              "    <tr>\n",
              "      <th>25050</th>\n",
              "      <td>venta con renta departamento de 2 ambientes a ...</td>\n",
              "      <td>2</td>\n",
              "      <td>NaN</td>\n",
              "      <td>2</td>\n",
              "    </tr>\n",
              "    <tr>\n",
              "      <th>25051</th>\n",
              "      <td>venta piso con cochera en palermomuy buena ubi...</td>\n",
              "      <td>NaN</td>\n",
              "      <td>NaN</td>\n",
              "      <td>NaN</td>\n",
              "    </tr>\n",
              "    <tr>\n",
              "      <th>25052</th>\n",
              "      <td>depto. en primer piso por escalera, de 2 habit...</td>\n",
              "      <td>NaN</td>\n",
              "      <td>NaN</td>\n",
              "      <td>NaN</td>\n",
              "    </tr>\n",
              "    <tr>\n",
              "      <th>25053</th>\n",
              "      <td>departamento al frente con balcã³n, 2 dormitor...</td>\n",
              "      <td>NaN</td>\n",
              "      <td>NaN</td>\n",
              "      <td>NaN</td>\n",
              "    </tr>\n",
              "    <tr>\n",
              "      <th>25054</th>\n",
              "      <td>1 ambiente divisible en 3 piso al frente con b...</td>\n",
              "      <td>1</td>\n",
              "      <td>NaN</td>\n",
              "      <td>1</td>\n",
              "    </tr>\n",
              "    <tr>\n",
              "      <th>25055</th>\n",
              "      <td>excelente departamento con terraza propia y pa...</td>\n",
              "      <td>NaN</td>\n",
              "      <td>NaN</td>\n",
              "      <td>NaN</td>\n",
              "    </tr>\n",
              "    <tr>\n",
              "      <th>25056</th>\n",
              "      <td>torre de 16âº pisos ubicado en pleno centro co...</td>\n",
              "      <td>NaN</td>\n",
              "      <td>NaN</td>\n",
              "      <td>NaN</td>\n",
              "    </tr>\n",
              "    <tr>\n",
              "      <th>25057</th>\n",
              "      <td>excelente ubicaciã³n - avenida pueyrredon y la...</td>\n",
              "      <td>1</td>\n",
              "      <td>NaN</td>\n",
              "      <td>1</td>\n",
              "    </tr>\n",
              "    <tr>\n",
              "      <th>25058</th>\n",
              "      <td>edificio en esquina de muy buena categorã­a de...</td>\n",
              "      <td>NaN</td>\n",
              "      <td>NaN</td>\n",
              "      <td>NaN</td>\n",
              "    </tr>\n",
              "    <tr>\n",
              "      <th>25059</th>\n",
              "      <td>edificio en esquina de muy buena categorã­a de...</td>\n",
              "      <td>NaN</td>\n",
              "      <td>NaN</td>\n",
              "      <td>NaN</td>\n",
              "    </tr>\n",
              "    <tr>\n",
              "      <th>25060</th>\n",
              "      <td>torre forum alcorta - mãxima categorãa.impec...</td>\n",
              "      <td>NaN</td>\n",
              "      <td>NaN</td>\n",
              "      <td>NaN</td>\n",
              "    </tr>\n",
              "    <tr>\n",
              "      <th>25061</th>\n",
              "      <td>venta departamento ambiente divisible a estren...</td>\n",
              "      <td>1</td>\n",
              "      <td>NaN</td>\n",
              "      <td>1</td>\n",
              "    </tr>\n",
              "    <tr>\n",
              "      <th>25062</th>\n",
              "      <td>departamento de 77 m2 apto profesional. edific...</td>\n",
              "      <td>NaN</td>\n",
              "      <td>NaN</td>\n",
              "      <td>NaN</td>\n",
              "    </tr>\n",
              "  </tbody>\n",
              "</table>\n",
              "<p>25063 rows × 4 columns</p>\n",
              "</div>"
            ],
            "text/plain": [
              "                                             description ambientes_regex  \\\n",
              "0      2 ambientes 3er piso lateral living comedor am...               2   \n",
              "1      excelente 1 ambiente a estrenar amplio super l...               1   \n",
              "2      excelente 2 ambientes  estrenar amplio super l...               2   \n",
              "3       torre i mondrian. 3 ambientes con terraza y 2...               3   \n",
              "4      torre ii dalã­. ambiente 1ico divisible.vitrau...             NaN   \n",
              "5      excelente semipiso al contra frente en bulnes ...             NaN   \n",
              "6      excelente zona, multiples medios de transporte...             NaN   \n",
              "7      departamento muy luminoso con to2 sus ambiente...             NaN   \n",
              "8      hermoso departamento de 4 ambientes, refaccion...               4   \n",
              "9      espectacular loft de exclusivo diseã±o, 210 ms...               5   \n",
              "10     piso 13, orientaciã³n norte, disposiciã³n al f...             NaN   \n",
              "11     departamento de 3 ambientes al contrafrente. s...               3   \n",
              "12     14 exclusivos semi-pisos.excelentes detalles d...             NaN   \n",
              "13     excelentes detalles de terminaciã³n, y diseã±o...             NaN   \n",
              "14     excelentes detalles de terminaciã³n, y diseã±o...             NaN   \n",
              "15     al frente muy luminoso.living comedor, a balco...             NaN   \n",
              "16     espectacular departamento de 2 ambientes con c...               2   \n",
              "17     codigo: 5 ubicado en: avenida independencia 26...               1   \n",
              "18     torre de 15 pisos con amenities ubica2 en el u...               2   \n",
              "19     venta de departamento 2 ambientes en almagro, ...               2   \n",
              "20     depto de 3 amb. c/cochera cubierta, en piso 12...               3   \n",
              "21     corredor responsable: daniel acosta - cucicba ...               4   \n",
              "22     corredor responsable: mariano aufseher - cucic...               2   \n",
              "23     corredor responsable: mariano aufseher - cucic...             NaN   \n",
              "24     corredor responsable: alejandro botta - cucicb...               1   \n",
              "25     los equipos de aire acondicionado no estan inc...             NaN   \n",
              "26     emprendimiento premium en villa crespoideal in...             NaN   \n",
              "27     emprendimiento premium en villa crespoideal in...             NaN   \n",
              "28     excelente 2 ambientes orientacion este, muy lu...               2   \n",
              "29     duplex con cochera fija cubierta 3 aãos de an...             NaN   \n",
              "...                                                  ...             ...   \n",
              "25033  venta 4 ambientes c/dependencia y cochera en b...               4   \n",
              "25034  departamentos semipisos en venta de 3 ambiente...               3   \n",
              "25035  departamento piso en venta de 3 ambientes en p...               3   \n",
              "25036  excelente depto impecable estado, piso alto vi...             NaN   \n",
              "25037  departamento piso en venta de 4 ambientes en p...               4   \n",
              "25038  venta 4 ambientes c/dependencia y cochera en b...               4   \n",
              "25039  hermoso 2 ambientes en pleno belgrano ,moldes ...               2   \n",
              "25040  - living comedor con salida a balcã³n de 2.90 ...             NaN   \n",
              "25041  amplio 3 ambientes en pleno palermo, a 1a cuad...               3   \n",
              "25042  1 ambiente divididoquedando 1 hermoso 2 ambien...               1   \n",
              "25043  1 ambiente con renta hasta febrero 2018 $ 5000...               1   \n",
              "25044  departamentos semipisos en venta de 3 ambiente...               3   \n",
              "25045  excelente departamento ubicado en lo mejor de ...             NaN   \n",
              "25046  excelente semipiso al frente de 4 ambientes. e...               4   \n",
              "25047  1 ambiente nuevo en el complejo cabildo estudi...               1   \n",
              "25048  excelente 1 ambiente nuevo en el moderno compl...               1   \n",
              "25049  excelente 1 ambiente nuevo en el moderno compl...               1   \n",
              "25050  venta con renta departamento de 2 ambientes a ...               2   \n",
              "25051  venta piso con cochera en palermomuy buena ubi...             NaN   \n",
              "25052  depto. en primer piso por escalera, de 2 habit...             NaN   \n",
              "25053  departamento al frente con balcã³n, 2 dormitor...             NaN   \n",
              "25054  1 ambiente divisible en 3 piso al frente con b...               1   \n",
              "25055  excelente departamento con terraza propia y pa...             NaN   \n",
              "25056  torre de 16âº pisos ubicado en pleno centro co...             NaN   \n",
              "25057  excelente ubicaciã³n - avenida pueyrredon y la...               1   \n",
              "25058  edificio en esquina de muy buena categorã­a de...             NaN   \n",
              "25059  edificio en esquina de muy buena categorã­a de...             NaN   \n",
              "25060  torre forum alcorta - mãxima categorãa.impec...             NaN   \n",
              "25061  venta departamento ambiente divisible a estren...               1   \n",
              "25062  departamento de 77 m2 apto profesional. edific...             NaN   \n",
              "\n",
              "       rooms ambientes_final  \n",
              "0        NaN               2  \n",
              "1        NaN               1  \n",
              "2        NaN               2  \n",
              "3        1.0               1  \n",
              "4        1.0               1  \n",
              "5        3.0               3  \n",
              "6        4.0               4  \n",
              "7        2.0               2  \n",
              "8        4.0               4  \n",
              "9        3.0               3  \n",
              "10       5.0               5  \n",
              "11       3.0               3  \n",
              "12       2.0               2  \n",
              "13       3.0               3  \n",
              "14       3.0               3  \n",
              "15       3.0               3  \n",
              "16       2.0               2  \n",
              "17       NaN               1  \n",
              "18       1.0               1  \n",
              "19       2.0               2  \n",
              "20       NaN               3  \n",
              "21       4.0               4  \n",
              "22       2.0               2  \n",
              "23       NaN             NaN  \n",
              "24       1.0               1  \n",
              "25       7.0               7  \n",
              "26       1.0               1  \n",
              "27       1.0               1  \n",
              "28       2.0               2  \n",
              "29       2.0               2  \n",
              "...      ...             ...  \n",
              "25033    NaN               4  \n",
              "25034    NaN               3  \n",
              "25035    NaN               3  \n",
              "25036    NaN             NaN  \n",
              "25037    NaN               4  \n",
              "25038    NaN               4  \n",
              "25039    NaN               2  \n",
              "25040    NaN             NaN  \n",
              "25041    NaN               3  \n",
              "25042    NaN               1  \n",
              "25043    NaN               1  \n",
              "25044    NaN               3  \n",
              "25045    NaN             NaN  \n",
              "25046    NaN               4  \n",
              "25047    NaN               1  \n",
              "25048    NaN               1  \n",
              "25049    NaN               1  \n",
              "25050    NaN               2  \n",
              "25051    NaN             NaN  \n",
              "25052    NaN             NaN  \n",
              "25053    NaN             NaN  \n",
              "25054    NaN               1  \n",
              "25055    NaN             NaN  \n",
              "25056    NaN             NaN  \n",
              "25057    NaN               1  \n",
              "25058    NaN             NaN  \n",
              "25059    NaN             NaN  \n",
              "25060    NaN             NaN  \n",
              "25061    NaN               1  \n",
              "25062    NaN             NaN  \n",
              "\n",
              "[25063 rows x 4 columns]"
            ]
          },
          "metadata": {
            "tags": []
          },
          "execution_count": 79
        }
      ]
    },
    {
      "metadata": {
        "id": "iGOemhNkgArE",
        "colab_type": "text"
      },
      "cell_type": "markdown",
      "source": [
        "## 4.4 Validacion de la zona geografica"
      ]
    },
    {
      "metadata": {
        "id": "i2dM5DWbNedz",
        "colab_type": "code",
        "colab": {
          "base_uri": "https://localhost:8080/",
          "height": 381
        },
        "outputId": "613030e8-7584-4623-dafd-b7fe799be1ec"
      },
      "cell_type": "code",
      "source": [
        "import geopandas\n",
        "import rtree\n",
        "import fiona\n",
        "import pandas as pd"
      ],
      "execution_count": 3,
      "outputs": [
        {
          "output_type": "error",
          "ename": "ModuleNotFoundError",
          "evalue": "ignored",
          "traceback": [
            "\u001b[0;31m---------------------------------------------------------------------------\u001b[0m",
            "\u001b[0;31mModuleNotFoundError\u001b[0m                       Traceback (most recent call last)",
            "\u001b[0;32m<ipython-input-3-a166b3d5d594>\u001b[0m in \u001b[0;36m<module>\u001b[0;34m()\u001b[0m\n\u001b[0;32m----> 1\u001b[0;31m \u001b[0;32mimport\u001b[0m \u001b[0mgeopandas\u001b[0m\u001b[0;34m\u001b[0m\u001b[0m\n\u001b[0m\u001b[1;32m      2\u001b[0m \u001b[0;32mimport\u001b[0m \u001b[0mrtree\u001b[0m\u001b[0;34m\u001b[0m\u001b[0m\n\u001b[1;32m      3\u001b[0m \u001b[0;32mimport\u001b[0m \u001b[0mfiona\u001b[0m\u001b[0;34m\u001b[0m\u001b[0m\n\u001b[1;32m      4\u001b[0m \u001b[0;32mimport\u001b[0m \u001b[0mpandas\u001b[0m \u001b[0;32mas\u001b[0m \u001b[0mpd\u001b[0m\u001b[0;34m\u001b[0m\u001b[0m\n",
            "\u001b[0;31mModuleNotFoundError\u001b[0m: No module named 'geopandas'",
            "",
            "\u001b[0;31m---------------------------------------------------------------------------\u001b[0;32m\nNOTE: If your import is failing due to a missing package, you can\nmanually install dependencies using either !pip or !apt.\n\nTo view examples of installing some common dependencies, click the\n\"Open Examples\" button below.\n\u001b[0;31m---------------------------------------------------------------------------\u001b[0m\n"
          ]
        }
      ]
    },
    {
      "metadata": {
        "id": "8bIQHDcINhOE",
        "colab_type": "code",
        "colab": {}
      },
      "cell_type": "code",
      "source": [
        "barrios = pd.read_csv('barrios.csv', encoding='latin1')"
      ],
      "execution_count": 0,
      "outputs": []
    },
    {
      "metadata": {
        "id": "_4dFQDw2Oo3B",
        "colab_type": "text"
      },
      "cell_type": "markdown",
      "source": [
        "###4.4.1 Creacion de un GeoDataFrame con geometry de polygons con los barrios de CABA"
      ]
    },
    {
      "metadata": {
        "id": "MyA8ZJMVOGVr",
        "colab_type": "code",
        "colab": {}
      },
      "cell_type": "code",
      "source": [
        "import shapely.wkt #importamos la forma wkt para representar poligonos\n",
        "barrios['coordenadas'] = barrios.WKT.apply(shapely.wkt.loads)# transformación de los String del df original a Polygon\n",
        "barrios.drop(\"WKT\",1,inplace=True)\n",
        "#creacion del GeoDataFrame\n",
        "geo_barrios = geopandas.GeoDataFrame(barrios,\n",
        "                                     crs={'init':'epsg:4326'},\n",
        "                                     geometry='coordenadas')\n",
        "geo_barrios['pol_barrio'] = geo_barrios['coordenadas'] "
      ],
      "execution_count": 0,
      "outputs": []
    },
    {
      "metadata": {
        "id": "siLDG-2WNSiQ",
        "colab_type": "text"
      },
      "cell_type": "markdown",
      "source": [
        "### 4.4.2 Usando las coordenadas del deptos_capital armamos un GeoDataFrame con geometry de una GeoSerie de points(coordenadas de los departamentos)"
      ]
    },
    {
      "metadata": {
        "id": "tX9NgBakNh2l",
        "colab_type": "code",
        "colab": {}
      },
      "cell_type": "code",
      "source": [
        "from shapely.geometry import Point\n",
        "\n",
        "geo_deptos_capital = geopandas.GeoDataFrame(deptos_capital.drop(columns=['lat','lon']), \n",
        "                                            crs={'init':'epsg:4326'},\n",
        "                                           geometry=[Point(ij) for ij in zip(deptos_capital['lon'],deptos_capital['lat'])])"
      ],
      "execution_count": 0,
      "outputs": []
    },
    {
      "metadata": {
        "id": "erX1qVRJPIad",
        "colab_type": "text"
      },
      "cell_type": "markdown",
      "source": [
        "#### Buscamos la cantidad de faltantes de datos geográficos"
      ]
    },
    {
      "metadata": {
        "id": "DIiCO7q3NiW3",
        "colab_type": "code",
        "colab": {}
      },
      "cell_type": "code",
      "source": [
        "deptos_capital['lat-lon'].notnull().value_counts()"
      ],
      "execution_count": 0,
      "outputs": []
    },
    {
      "metadata": {
        "id": "sTcsein7PQF_",
        "colab_type": "text"
      },
      "cell_type": "markdown",
      "source": [
        "#### El 74% de los departamentos tiene dato geografico"
      ]
    },
    {
      "metadata": {
        "id": "39lN2njxNiyk",
        "colab_type": "code",
        "colab": {}
      },
      "cell_type": "code",
      "source": [
        "deptos_con_dato = deptos_capital[deptos_capital['lat-lon'].notnull()]"
      ],
      "execution_count": 0,
      "outputs": []
    },
    {
      "metadata": {
        "id": "FY0YOkiUPV_y",
        "colab_type": "text"
      },
      "cell_type": "markdown",
      "source": [
        "###4.4.3 Analizando los datos faltantes"
      ]
    },
    {
      "metadata": {
        "id": "tmUulzDUPiMX",
        "colab_type": "code",
        "colab": {}
      },
      "cell_type": "code",
      "source": [
        "total = deptos_capital['place_name'].value_counts(dropna=False)"
      ],
      "execution_count": 0,
      "outputs": []
    },
    {
      "metadata": {
        "id": "jmt7DQCOPiV0",
        "colab_type": "code",
        "colab": {}
      },
      "cell_type": "code",
      "source": [
        "proporcion_faltantes = faltantes['place_name'].value_counts(dropna=False)/total\n",
        "proporcion_con_dato = deptos_con_dato['place_name'].value_counts(dropna=False)/total"
      ],
      "execution_count": 0,
      "outputs": []
    },
    {
      "metadata": {
        "id": "UlnWTMwKPiiE",
        "colab_type": "code",
        "colab": {}
      },
      "cell_type": "code",
      "source": [
        "tabla = pd.DataFrame({'faltantes':faltantes['place_name'].value_counts(dropna=False),\n",
        "                      'con_dato':deptos_con_dato['place_name'].value_counts(),\n",
        "                      'total':total,\n",
        "                      'prop_faltantes':proporcion_faltantes,\n",
        "                      'prop_con_dato':proporcion_con_dato},index=deptos_con_dato['place_name'].value_counts().index)"
      ],
      "execution_count": 0,
      "outputs": []
    },
    {
      "metadata": {
        "id": "et0IrXbvQpHU",
        "colab_type": "text"
      },
      "cell_type": "markdown",
      "source": [
        "####Los barrios donde más faltan datos geográficos son:"
      ]
    },
    {
      "metadata": {
        "id": "R7kJ6lMOPiqU",
        "colab_type": "code",
        "colab": {}
      },
      "cell_type": "code",
      "source": [
        "tabla.sort_values('prop_faltantes',ascending=False).head()"
      ],
      "execution_count": 0,
      "outputs": []
    },
    {
      "metadata": {
        "id": "rXJAy3tyQ0jD",
        "colab_type": "text"
      },
      "cell_type": "markdown",
      "source": [
        "###4.4.4 Transformando los datos geograficos de properatti"
      ]
    },
    {
      "metadata": {
        "id": "uncBdHU6Q7XF",
        "colab_type": "code",
        "colab": {}
      },
      "cell_type": "code",
      "source": [
        "deptos_geo_ubicados = geopandas.sjoin(geo_barrios,geo_deptos_capital, how='right'"
      ],
      "execution_count": 0,
      "outputs": []
    },
    {
      "metadata": {
        "id": "mNtNvCX7Q7bi",
        "colab_type": "code",
        "colab": {}
      },
      "cell_type": "code",
      "source": [
        "deptos_geo_ubicados.rename({'BARRIO':'barrio_real','place_name':'barrio_publicacion'},axis=1,inplace=True)"
      ],
      "execution_count": 0,
      "outputs": []
    },
    {
      "metadata": {
        "id": "mXmKi94-Q7fV",
        "colab_type": "code",
        "colab": {}
      },
      "cell_type": "code",
      "source": [
        "deptos_geo_ubicados.drop(['state_name','index_left'],1,inplace=True)"
      ],
      "execution_count": 0,
      "outputs": []
    },
    {
      "metadata": {
        "id": "IPsmIMrMRDds",
        "colab_type": "code",
        "colab": {}
      },
      "cell_type": "code",
      "source": [
        "deptos_geo_ubicados = deptos_geo_ubicados[['barrio_real','barrio_publicacion', 'COMUNA','lat-lon','geometry', 'pol_barrio',\n",
        "        'price', 'currency',\n",
        "       'price_aprox_local_currency', 'price_aprox_usd', 'surface_total_in_m2',\n",
        "       'surface_covered_in_m2', 'price_usd_per_m2', 'price_per_m2', 'floor',\n",
        "       'rooms', 'description', 'title',\n",
        "        'PERIMETRO', 'AREA']]"
      ],
      "execution_count": 0,
      "outputs": []
    },
    {
      "metadata": {
        "id": "LRaGfPWJRGW4",
        "colab_type": "code",
        "colab": {}
      },
      "cell_type": "code",
      "source": [
        "deptos_geo_ubicados['barrio_publicacion'].unique()"
      ],
      "execution_count": 0,
      "outputs": []
    },
    {
      "metadata": {
        "id": "R5_KzIFyRI0V",
        "colab_type": "code",
        "colab": {}
      },
      "cell_type": "code",
      "source": [
        "deptos_geo_ubicados['barrio_publicacion'].fillna(value=np.nan,inplace=True)"
      ],
      "execution_count": 0,
      "outputs": []
    },
    {
      "metadata": {
        "id": "o5UcY0upRNXd",
        "colab_type": "text"
      },
      "cell_type": "markdown",
      "source": [
        "#### Homogeneizando los nombres de los barrios"
      ]
    },
    {
      "metadata": {
        "id": "E8jvgdZIRTA-",
        "colab_type": "code",
        "colab": {}
      },
      "cell_type": "code",
      "source": [
        "deptos_geo_ubicados.loc[:,'barrio_real'] = deptos_geo_ubicados['barrio_real'].str.lower()"
      ],
      "execution_count": 0,
      "outputs": []
    },
    {
      "metadata": {
        "id": "GIwSNR2ARTX6",
        "colab_type": "code",
        "colab": {}
      },
      "cell_type": "code",
      "source": [
        "def uni(x):\n",
        "    if x.find('ñ') == -1:\n",
        "        return unidecode.unidecode(x.lower())\n",
        "    return x.lower()"
      ],
      "execution_count": 0,
      "outputs": []
    },
    {
      "metadata": {
        "id": "11Z-8pb5RTcx",
        "colab_type": "code",
        "colab": {}
      },
      "cell_type": "code",
      "source": [
        "deptos_geo_ubicados.loc[:,'barrio_publicacion'] = deptos_geo_ubicados[deptos_geo_ubicados['barrio_publicacion'].notnull()]['barrio_publicacion'].apply(uni)"
      ],
      "execution_count": 0,
      "outputs": []
    },
    {
      "metadata": {
        "id": "MyqC5lwzRn7x",
        "colab_type": "code",
        "colab": {}
      },
      "cell_type": "code",
      "source": [
        "deptos_geo_ubicados[['barrio_real','barrio_publicacion']].count()"
      ],
      "execution_count": 0,
      "outputs": []
    },
    {
      "metadata": {
        "id": "3XKV80YPRojC",
        "colab_type": "text"
      },
      "cell_type": "markdown",
      "source": [
        "#### Diferencias entre publicación y posición geográfica"
      ]
    },
    {
      "metadata": {
        "id": "kSCf-HGAR-oz",
        "colab_type": "code",
        "colab": {}
      },
      "cell_type": "code",
      "source": [
        "deptos_bien_ubicados = deptos_geo_ubicados[(deptos_geo_ubicados['barrio_publicacion'] == deptos_geo_ubicados['barrio_real'])]\n",
        "diferencias = deptos_geo_ubicados[(deptos_geo_ubicados['barrio_publicacion'] != deptos_geo_ubicados['barrio_real'])]\n",
        "diferencias_sin_nan = deptos_geo_ubicados[(deptos_geo_ubicados['barrio_publicacion'] != deptos_geo_ubicados['barrio_real']) & (deptos_geo_ubicados['barrio_real'].notnull())]"
      ],
      "execution_count": 0,
      "outputs": []
    },
    {
      "metadata": {
        "id": "1FdyhTXXSRW-",
        "colab_type": "text"
      },
      "cell_type": "markdown",
      "source": [
        "#### Cantidad de departamentos bien publicados:"
      ]
    },
    {
      "metadata": {
        "id": "LEBxnF2qR-3u",
        "colab_type": "code",
        "colab": {}
      },
      "cell_type": "code",
      "source": [
        "deptos_bien_ubicados.shape[0]"
      ],
      "execution_count": 0,
      "outputs": []
    },
    {
      "metadata": {
        "id": "grW0JgvHSWxX",
        "colab_type": "text"
      },
      "cell_type": "markdown",
      "source": [
        "#### Cantidad de departamentos mal publicados:"
      ]
    },
    {
      "metadata": {
        "id": "mh6CO-CvR--4",
        "colab_type": "code",
        "colab": {}
      },
      "cell_type": "code",
      "source": [
        "diferencias_sin_nan.shape[0]"
      ],
      "execution_count": 0,
      "outputs": []
    },
    {
      "metadata": {
        "id": "wJJD_khGSdrm",
        "colab_type": "text"
      },
      "cell_type": "markdown",
      "source": [
        "### El 33% de los departamentos estan mal publicados."
      ]
    },
    {
      "metadata": {
        "id": "OD4FBvJTSl-V",
        "colab_type": "text"
      },
      "cell_type": "markdown",
      "source": [
        "## 4.4.5 Barrios donde más departmentos mal ubicados hay"
      ]
    },
    {
      "metadata": {
        "id": "VD5tu9m3Svao",
        "colab_type": "code",
        "colab": {}
      },
      "cell_type": "code",
      "source": [
        "diferencias_sin_nan['barrio_publicacion'].value_counts().head()"
      ],
      "execution_count": 0,
      "outputs": []
    },
    {
      "metadata": {
        "id": "e44fMyYaS6J7",
        "colab_type": "text"
      },
      "cell_type": "markdown",
      "source": [
        "### Gráficos:"
      ]
    },
    {
      "metadata": {
        "id": "MprJ0WdYSvey",
        "colab_type": "code",
        "colab": {}
      },
      "cell_type": "code",
      "source": [
        "grupo = diferencias.groupby('barrio_publicacion')['barrio_real'].value_counts()"
      ],
      "execution_count": 0,
      "outputs": []
    },
    {
      "metadata": {
        "id": "OQVAI4v3Svtl",
        "colab_type": "code",
        "colab": {}
      },
      "cell_type": "code",
      "source": [
        "def grafico_barras(grupo,barrio,p=True):\n",
        "    graph = grupo[barrio].plot(kind='bar', figsize=(13,9))\n",
        "    lista =[i.get_height() for i in graph.patches] \n",
        "    total = sum(lista)\n",
        "    graph.set_xlabel('Barrio Real', fontsize= 12)\n",
        "    graph.set_title('Deptos publicados en '+barrio.title(),fontsize=14)\n",
        "    graph.set_xticklabels([i.upper() for i in grupo[barrio].index.values],fontdict={'fontsize':12})\n",
        "    if p == True:\n",
        "        for i in graph.patches:\n",
        "            graph.annotate(str(round(i.get_height()/total*100,2))+'%',(i.get_x(), i.get_height()),fontsize=12)\n",
        "        \n",
        "    return graph"
      ],
      "execution_count": 0,
      "outputs": []
    },
    {
      "metadata": {
        "id": "j9EIaKZFTCr2",
        "colab_type": "text"
      },
      "cell_type": "markdown",
      "source": [
        "### Barrio Norte:"
      ]
    },
    {
      "metadata": {
        "id": "kVq8OMjBTF-0",
        "colab_type": "code",
        "colab": {}
      },
      "cell_type": "code",
      "source": [
        "grafico_barras(grupo,'barrio norte');"
      ],
      "execution_count": 0,
      "outputs": []
    },
    {
      "metadata": {
        "id": "cmjgJ-iyTPFn",
        "colab_type": "text"
      },
      "cell_type": "markdown",
      "source": [
        "### Belgrano:"
      ]
    },
    {
      "metadata": {
        "id": "FZPXwbOcTGFI",
        "colab_type": "code",
        "colab": {}
      },
      "cell_type": "code",
      "source": [
        "grafico_barras(grupo,'belgrano');"
      ],
      "execution_count": 0,
      "outputs": []
    },
    {
      "metadata": {
        "id": "zI2v_G9bTWla",
        "colab_type": "text"
      },
      "cell_type": "markdown",
      "source": [
        "### Capital Federal (No hay barrio en la publicación):"
      ]
    },
    {
      "metadata": {
        "id": "RH9Lk6DcTGTH",
        "colab_type": "code",
        "colab": {}
      },
      "cell_type": "code",
      "source": [
        "grafico_barras(grupo,'capital federal',False);"
      ],
      "execution_count": 0,
      "outputs": []
    },
    {
      "metadata": {
        "id": "x2WeA1vtTfyp",
        "colab_type": "text"
      },
      "cell_type": "markdown",
      "source": [
        "### Caballito:"
      ]
    },
    {
      "metadata": {
        "id": "wPYBrZzyToZ4",
        "colab_type": "code",
        "colab": {}
      },
      "cell_type": "code",
      "source": [
        "grafico_barras(grupo,'caballito');"
      ],
      "execution_count": 0,
      "outputs": []
    },
    {
      "metadata": {
        "id": "wb0Ujy0uTrWS",
        "colab_type": "text"
      },
      "cell_type": "markdown",
      "source": [
        "### Palermo:"
      ]
    },
    {
      "metadata": {
        "id": "CQEjVgNXTtAz",
        "colab_type": "code",
        "colab": {
          "base_uri": "https://localhost:8080/",
          "height": 175
        },
        "outputId": "3ebf9748-e607-4124-8649-407386a1ba96"
      },
      "cell_type": "code",
      "source": [
        "grafico_barras(grupo,'palermo')"
      ],
      "execution_count": 4,
      "outputs": [
        {
          "output_type": "error",
          "ename": "NameError",
          "evalue": "ignored",
          "traceback": [
            "\u001b[0;31m---------------------------------------------------------------------------\u001b[0m",
            "\u001b[0;31mNameError\u001b[0m                                 Traceback (most recent call last)",
            "\u001b[0;32m<ipython-input-4-01fac5e9f05f>\u001b[0m in \u001b[0;36m<module>\u001b[0;34m()\u001b[0m\n\u001b[0;32m----> 1\u001b[0;31m \u001b[0mgrafico_barras\u001b[0m\u001b[0;34m(\u001b[0m\u001b[0mgrupo\u001b[0m\u001b[0;34m,\u001b[0m\u001b[0;34m'palermo'\u001b[0m\u001b[0;34m)\u001b[0m\u001b[0;34m\u001b[0m\u001b[0m\n\u001b[0m",
            "\u001b[0;31mNameError\u001b[0m: name 'grafico_barras' is not defined"
          ]
        }
      ]
    },
    {
      "metadata": {
        "id": "5LlEjPA_gArQ",
        "colab_type": "text"
      },
      "cell_type": "markdown",
      "source": [
        "## 4.5 Imputacion del precio"
      ]
    },
    {
      "metadata": {
        "id": "yiRsuXjvgArR",
        "colab_type": "code",
        "colab": {},
        "collapsed": true,
        "outputId": "9d09b40f-b475-483f-c532-7783b60496bd"
      },
      "cell_type": "code",
      "source": [
        "deptos_capital[\"precio_final\"] = deptos_capital.price_usd_per_m2.combine_first(deptos_capital.price_per_m2)\n",
        "deptos_capital[[\"precio_final\",\"price_per_m2\",\"price_usd_per_m2\"]].head()"
      ],
      "execution_count": 0,
      "outputs": [
        {
          "output_type": "execute_result",
          "data": {
            "text/html": [
              "<div>\n",
              "<style scoped>\n",
              "    .dataframe tbody tr th:only-of-type {\n",
              "        vertical-align: middle;\n",
              "    }\n",
              "\n",
              "    .dataframe tbody tr th {\n",
              "        vertical-align: top;\n",
              "    }\n",
              "\n",
              "    .dataframe thead th {\n",
              "        text-align: right;\n",
              "    }\n",
              "</style>\n",
              "<table border=\"1\" class=\"dataframe\">\n",
              "  <thead>\n",
              "    <tr style=\"text-align: right;\">\n",
              "      <th></th>\n",
              "      <th>precio_final</th>\n",
              "      <th>price_per_m2</th>\n",
              "      <th>price_usd_per_m2</th>\n",
              "    </tr>\n",
              "  </thead>\n",
              "  <tbody>\n",
              "    <tr>\n",
              "      <th>0</th>\n",
              "      <td>1309.090909</td>\n",
              "      <td>1309.090909</td>\n",
              "      <td>1309.090909</td>\n",
              "    </tr>\n",
              "    <tr>\n",
              "      <th>1</th>\n",
              "      <td>3066.666667</td>\n",
              "      <td>3450.000000</td>\n",
              "      <td>3066.666667</td>\n",
              "    </tr>\n",
              "    <tr>\n",
              "      <th>2</th>\n",
              "      <td>3000.000000</td>\n",
              "      <td>3250.000000</td>\n",
              "      <td>3000.000000</td>\n",
              "    </tr>\n",
              "    <tr>\n",
              "      <th>3</th>\n",
              "      <td>2234.000000</td>\n",
              "      <td>3723.333333</td>\n",
              "      <td>2234.000000</td>\n",
              "    </tr>\n",
              "    <tr>\n",
              "      <th>4</th>\n",
              "      <td>3521.428571</td>\n",
              "      <td>4770.967742</td>\n",
              "      <td>3521.428571</td>\n",
              "    </tr>\n",
              "    <tr>\n",
              "      <th>5</th>\n",
              "      <td>3365.384615</td>\n",
              "      <td>3645.833333</td>\n",
              "      <td>3365.384615</td>\n",
              "    </tr>\n",
              "    <tr>\n",
              "      <th>6</th>\n",
              "      <td>2292.372881</td>\n",
              "      <td>3705.479452</td>\n",
              "      <td>2292.372881</td>\n",
              "    </tr>\n",
              "    <tr>\n",
              "      <th>7</th>\n",
              "      <td>1744.186047</td>\n",
              "      <td>1744.186047</td>\n",
              "      <td>1744.186047</td>\n",
              "    </tr>\n",
              "    <tr>\n",
              "      <th>8</th>\n",
              "      <td>1812.500000</td>\n",
              "      <td>1883.116883</td>\n",
              "      <td>1812.500000</td>\n",
              "    </tr>\n",
              "    <tr>\n",
              "      <th>9</th>\n",
              "      <td>2181.818182</td>\n",
              "      <td>3692.307692</td>\n",
              "      <td>2181.818182</td>\n",
              "    </tr>\n",
              "    <tr>\n",
              "      <th>10</th>\n",
              "      <td>1702.127660</td>\n",
              "      <td>1935.483871</td>\n",
              "      <td>1702.127660</td>\n",
              "    </tr>\n",
              "    <tr>\n",
              "      <th>11</th>\n",
              "      <td>2200.000000</td>\n",
              "      <td>2200.000000</td>\n",
              "      <td>2200.000000</td>\n",
              "    </tr>\n",
              "    <tr>\n",
              "      <th>12</th>\n",
              "      <td>1705.000000</td>\n",
              "      <td>3706.521739</td>\n",
              "      <td>1705.000000</td>\n",
              "    </tr>\n",
              "    <tr>\n",
              "      <th>13</th>\n",
              "      <td>2721.111111</td>\n",
              "      <td>2938.800000</td>\n",
              "      <td>2721.111111</td>\n",
              "    </tr>\n",
              "    <tr>\n",
              "      <th>14</th>\n",
              "      <td>2750.370370</td>\n",
              "      <td>2970.400000</td>\n",
              "      <td>2750.370370</td>\n",
              "    </tr>\n",
              "    <tr>\n",
              "      <th>15</th>\n",
              "      <td>1542.857143</td>\n",
              "      <td>1611.940299</td>\n",
              "      <td>1542.857143</td>\n",
              "    </tr>\n",
              "    <tr>\n",
              "      <th>16</th>\n",
              "      <td>3460.000000</td>\n",
              "      <td>3460.000000</td>\n",
              "      <td>3460.000000</td>\n",
              "    </tr>\n",
              "    <tr>\n",
              "      <th>17</th>\n",
              "      <td>1918.421053</td>\n",
              "      <td>NaN</td>\n",
              "      <td>1918.421053</td>\n",
              "    </tr>\n",
              "    <tr>\n",
              "      <th>18</th>\n",
              "      <td>NaN</td>\n",
              "      <td>NaN</td>\n",
              "      <td>NaN</td>\n",
              "    </tr>\n",
              "    <tr>\n",
              "      <th>19</th>\n",
              "      <td>2198.000000</td>\n",
              "      <td>2747.500000</td>\n",
              "      <td>2198.000000</td>\n",
              "    </tr>\n",
              "    <tr>\n",
              "      <th>20</th>\n",
              "      <td>3236.363636</td>\n",
              "      <td>3236.363636</td>\n",
              "      <td>NaN</td>\n",
              "    </tr>\n",
              "    <tr>\n",
              "      <th>21</th>\n",
              "      <td>1612.500000</td>\n",
              "      <td>1612.500000</td>\n",
              "      <td>NaN</td>\n",
              "    </tr>\n",
              "    <tr>\n",
              "      <th>22</th>\n",
              "      <td>2509.803922</td>\n",
              "      <td>2509.803922</td>\n",
              "      <td>NaN</td>\n",
              "    </tr>\n",
              "    <tr>\n",
              "      <th>23</th>\n",
              "      <td>1661.971831</td>\n",
              "      <td>1661.971831</td>\n",
              "      <td>NaN</td>\n",
              "    </tr>\n",
              "    <tr>\n",
              "      <th>24</th>\n",
              "      <td>2657.142857</td>\n",
              "      <td>2657.142857</td>\n",
              "      <td>NaN</td>\n",
              "    </tr>\n",
              "    <tr>\n",
              "      <th>25</th>\n",
              "      <td>1938.775510</td>\n",
              "      <td>1938.775510</td>\n",
              "      <td>1938.775510</td>\n",
              "    </tr>\n",
              "    <tr>\n",
              "      <th>26</th>\n",
              "      <td>1757.142857</td>\n",
              "      <td>1892.307692</td>\n",
              "      <td>1757.142857</td>\n",
              "    </tr>\n",
              "    <tr>\n",
              "      <th>27</th>\n",
              "      <td>1636.363636</td>\n",
              "      <td>1756.097561</td>\n",
              "      <td>1636.363636</td>\n",
              "    </tr>\n",
              "    <tr>\n",
              "      <th>28</th>\n",
              "      <td>3455.882353</td>\n",
              "      <td>4895.833333</td>\n",
              "      <td>3455.882353</td>\n",
              "    </tr>\n",
              "    <tr>\n",
              "      <th>29</th>\n",
              "      <td>4210.526316</td>\n",
              "      <td>4444.444444</td>\n",
              "      <td>4210.526316</td>\n",
              "    </tr>\n",
              "    <tr>\n",
              "      <th>...</th>\n",
              "      <td>...</td>\n",
              "      <td>...</td>\n",
              "      <td>...</td>\n",
              "    </tr>\n",
              "    <tr>\n",
              "      <th>25033</th>\n",
              "      <td>2595.238095</td>\n",
              "      <td>2691.358025</td>\n",
              "      <td>2595.238095</td>\n",
              "    </tr>\n",
              "    <tr>\n",
              "      <th>25034</th>\n",
              "      <td>2387.096774</td>\n",
              "      <td>2508.474576</td>\n",
              "      <td>2387.096774</td>\n",
              "    </tr>\n",
              "    <tr>\n",
              "      <th>25035</th>\n",
              "      <td>1914.893617</td>\n",
              "      <td>2647.058824</td>\n",
              "      <td>1914.893617</td>\n",
              "    </tr>\n",
              "    <tr>\n",
              "      <th>25036</th>\n",
              "      <td>6888.888889</td>\n",
              "      <td>7294.117647</td>\n",
              "      <td>6888.888889</td>\n",
              "    </tr>\n",
              "    <tr>\n",
              "      <th>25037</th>\n",
              "      <td>1974.358974</td>\n",
              "      <td>2538.461538</td>\n",
              "      <td>1974.358974</td>\n",
              "    </tr>\n",
              "    <tr>\n",
              "      <th>25038</th>\n",
              "      <td>2595.238095</td>\n",
              "      <td>2691.358025</td>\n",
              "      <td>2595.238095</td>\n",
              "    </tr>\n",
              "    <tr>\n",
              "      <th>25039</th>\n",
              "      <td>3142.857143</td>\n",
              "      <td>3142.857143</td>\n",
              "      <td>NaN</td>\n",
              "    </tr>\n",
              "    <tr>\n",
              "      <th>25040</th>\n",
              "      <td>2346.938776</td>\n",
              "      <td>2500.000000</td>\n",
              "      <td>2346.938776</td>\n",
              "    </tr>\n",
              "    <tr>\n",
              "      <th>25041</th>\n",
              "      <td>2650.000000</td>\n",
              "      <td>3011.363636</td>\n",
              "      <td>2650.000000</td>\n",
              "    </tr>\n",
              "    <tr>\n",
              "      <th>25042</th>\n",
              "      <td>3555.555556</td>\n",
              "      <td>4000.000000</td>\n",
              "      <td>3555.555556</td>\n",
              "    </tr>\n",
              "    <tr>\n",
              "      <th>25043</th>\n",
              "      <td>2034.482759</td>\n",
              "      <td>2458.333333</td>\n",
              "      <td>2034.482759</td>\n",
              "    </tr>\n",
              "    <tr>\n",
              "      <th>25044</th>\n",
              "      <td>140.000000</td>\n",
              "      <td>259.677419</td>\n",
              "      <td>140.000000</td>\n",
              "    </tr>\n",
              "    <tr>\n",
              "      <th>25045</th>\n",
              "      <td>3819.148936</td>\n",
              "      <td>3819.148936</td>\n",
              "      <td>NaN</td>\n",
              "    </tr>\n",
              "    <tr>\n",
              "      <th>25046</th>\n",
              "      <td>2876.106195</td>\n",
              "      <td>2876.106195</td>\n",
              "      <td>2876.106195</td>\n",
              "    </tr>\n",
              "    <tr>\n",
              "      <th>25047</th>\n",
              "      <td>1187.500000</td>\n",
              "      <td>5000.000000</td>\n",
              "      <td>1187.500000</td>\n",
              "    </tr>\n",
              "    <tr>\n",
              "      <th>25048</th>\n",
              "      <td>2756.756757</td>\n",
              "      <td>3090.909091</td>\n",
              "      <td>2756.756757</td>\n",
              "    </tr>\n",
              "    <tr>\n",
              "      <th>25049</th>\n",
              "      <td>3108.108108</td>\n",
              "      <td>3484.848485</td>\n",
              "      <td>3108.108108</td>\n",
              "    </tr>\n",
              "    <tr>\n",
              "      <th>25050</th>\n",
              "      <td>3014.492754</td>\n",
              "      <td>3466.666667</td>\n",
              "      <td>3014.492754</td>\n",
              "    </tr>\n",
              "    <tr>\n",
              "      <th>25051</th>\n",
              "      <td>3684.210526</td>\n",
              "      <td>4022.988506</td>\n",
              "      <td>3684.210526</td>\n",
              "    </tr>\n",
              "    <tr>\n",
              "      <th>25052</th>\n",
              "      <td>1826.923077</td>\n",
              "      <td>1826.923077</td>\n",
              "      <td>NaN</td>\n",
              "    </tr>\n",
              "    <tr>\n",
              "      <th>25053</th>\n",
              "      <td>1666.666667</td>\n",
              "      <td>1666.666667</td>\n",
              "      <td>NaN</td>\n",
              "    </tr>\n",
              "    <tr>\n",
              "      <th>25054</th>\n",
              "      <td>2257.575758</td>\n",
              "      <td>2257.575758</td>\n",
              "      <td>NaN</td>\n",
              "    </tr>\n",
              "    <tr>\n",
              "      <th>25055</th>\n",
              "      <td>1813.186813</td>\n",
              "      <td>2538.461538</td>\n",
              "      <td>1813.186813</td>\n",
              "    </tr>\n",
              "    <tr>\n",
              "      <th>25056</th>\n",
              "      <td>3368.421053</td>\n",
              "      <td>3657.142857</td>\n",
              "      <td>3368.421053</td>\n",
              "    </tr>\n",
              "    <tr>\n",
              "      <th>25057</th>\n",
              "      <td>3750.000000</td>\n",
              "      <td>4230.769231</td>\n",
              "      <td>3750.000000</td>\n",
              "    </tr>\n",
              "    <tr>\n",
              "      <th>25058</th>\n",
              "      <td>2611.464968</td>\n",
              "      <td>NaN</td>\n",
              "      <td>2611.464968</td>\n",
              "    </tr>\n",
              "    <tr>\n",
              "      <th>25059</th>\n",
              "      <td>2611.464968</td>\n",
              "      <td>NaN</td>\n",
              "      <td>2611.464968</td>\n",
              "    </tr>\n",
              "    <tr>\n",
              "      <th>25060</th>\n",
              "      <td>7699.115044</td>\n",
              "      <td>9354.838710</td>\n",
              "      <td>7699.115044</td>\n",
              "    </tr>\n",
              "    <tr>\n",
              "      <th>25061</th>\n",
              "      <td>2858.695652</td>\n",
              "      <td>3371.794872</td>\n",
              "      <td>2858.695652</td>\n",
              "    </tr>\n",
              "    <tr>\n",
              "      <th>25062</th>\n",
              "      <td>1675.324675</td>\n",
              "      <td>1675.324675</td>\n",
              "      <td>1675.324675</td>\n",
              "    </tr>\n",
              "  </tbody>\n",
              "</table>\n",
              "<p>25063 rows × 3 columns</p>\n",
              "</div>"
            ],
            "text/plain": [
              "       precio_final  price_per_m2  price_usd_per_m2\n",
              "0       1309.090909   1309.090909       1309.090909\n",
              "1       3066.666667   3450.000000       3066.666667\n",
              "2       3000.000000   3250.000000       3000.000000\n",
              "3       2234.000000   3723.333333       2234.000000\n",
              "4       3521.428571   4770.967742       3521.428571\n",
              "5       3365.384615   3645.833333       3365.384615\n",
              "6       2292.372881   3705.479452       2292.372881\n",
              "7       1744.186047   1744.186047       1744.186047\n",
              "8       1812.500000   1883.116883       1812.500000\n",
              "9       2181.818182   3692.307692       2181.818182\n",
              "10      1702.127660   1935.483871       1702.127660\n",
              "11      2200.000000   2200.000000       2200.000000\n",
              "12      1705.000000   3706.521739       1705.000000\n",
              "13      2721.111111   2938.800000       2721.111111\n",
              "14      2750.370370   2970.400000       2750.370370\n",
              "15      1542.857143   1611.940299       1542.857143\n",
              "16      3460.000000   3460.000000       3460.000000\n",
              "17      1918.421053           NaN       1918.421053\n",
              "18              NaN           NaN               NaN\n",
              "19      2198.000000   2747.500000       2198.000000\n",
              "20      3236.363636   3236.363636               NaN\n",
              "21      1612.500000   1612.500000               NaN\n",
              "22      2509.803922   2509.803922               NaN\n",
              "23      1661.971831   1661.971831               NaN\n",
              "24      2657.142857   2657.142857               NaN\n",
              "25      1938.775510   1938.775510       1938.775510\n",
              "26      1757.142857   1892.307692       1757.142857\n",
              "27      1636.363636   1756.097561       1636.363636\n",
              "28      3455.882353   4895.833333       3455.882353\n",
              "29      4210.526316   4444.444444       4210.526316\n",
              "...             ...           ...               ...\n",
              "25033   2595.238095   2691.358025       2595.238095\n",
              "25034   2387.096774   2508.474576       2387.096774\n",
              "25035   1914.893617   2647.058824       1914.893617\n",
              "25036   6888.888889   7294.117647       6888.888889\n",
              "25037   1974.358974   2538.461538       1974.358974\n",
              "25038   2595.238095   2691.358025       2595.238095\n",
              "25039   3142.857143   3142.857143               NaN\n",
              "25040   2346.938776   2500.000000       2346.938776\n",
              "25041   2650.000000   3011.363636       2650.000000\n",
              "25042   3555.555556   4000.000000       3555.555556\n",
              "25043   2034.482759   2458.333333       2034.482759\n",
              "25044    140.000000    259.677419        140.000000\n",
              "25045   3819.148936   3819.148936               NaN\n",
              "25046   2876.106195   2876.106195       2876.106195\n",
              "25047   1187.500000   5000.000000       1187.500000\n",
              "25048   2756.756757   3090.909091       2756.756757\n",
              "25049   3108.108108   3484.848485       3108.108108\n",
              "25050   3014.492754   3466.666667       3014.492754\n",
              "25051   3684.210526   4022.988506       3684.210526\n",
              "25052   1826.923077   1826.923077               NaN\n",
              "25053   1666.666667   1666.666667               NaN\n",
              "25054   2257.575758   2257.575758               NaN\n",
              "25055   1813.186813   2538.461538       1813.186813\n",
              "25056   3368.421053   3657.142857       3368.421053\n",
              "25057   3750.000000   4230.769231       3750.000000\n",
              "25058   2611.464968           NaN       2611.464968\n",
              "25059   2611.464968           NaN       2611.464968\n",
              "25060   7699.115044   9354.838710       7699.115044\n",
              "25061   2858.695652   3371.794872       2858.695652\n",
              "25062   1675.324675   1675.324675       1675.324675\n",
              "\n",
              "[25063 rows x 3 columns]"
            ]
          },
          "metadata": {
            "tags": []
          },
          "execution_count": 97
        }
      ]
    },
    {
      "metadata": {
        "id": "P6NoX-AlgArY",
        "colab_type": "text"
      },
      "cell_type": "markdown",
      "source": [
        "## 4.6 OUTLIERS"
      ]
    },
    {
      "metadata": {
        "id": "aMqaEOz5gArb",
        "colab_type": "code",
        "colab": {}
      },
      "cell_type": "code",
      "source": [
        "#Tomo como criterio eliminar dptos con precio por m2 mayor a 20000\n",
        "q75_m2, q25_m2 = np.percentile(deptos_capital.precio_final.dropna(), [75 ,25])\n",
        "iqr_m2 = q75_m2 - q25_m2\n",
        "\n",
        "deptos_capital['Outliers'] = (deptos_capital.precio_final < q75_m2 + 1.5*iqr_m2) & (ddeptos_capital.precio_final > q25_m2 - 1.5*iqr_m2)"
      ],
      "execution_count": 0,
      "outputs": []
    },
    {
      "metadata": {
        "id": "56N_bkDMgAr7",
        "colab_type": "text"
      },
      "cell_type": "markdown",
      "source": [
        "## 4.7 Tratamiento de missings"
      ]
    },
    {
      "metadata": {
        "id": "k2XQ5g1-QXvN",
        "colab_type": "text"
      },
      "cell_type": "markdown",
      "source": [
        "###Missing values: proporcion"
      ]
    },
    {
      "metadata": {
        "id": "xgoBAJkVPutu",
        "colab_type": "code",
        "colab": {}
      },
      "cell_type": "code",
      "source": [
        "place = len(capital_dptos[(capital_dptos['place_name'] == 'Capital Federal')])\n",
        "place.head()"
      ],
      "execution_count": 0,
      "outputs": []
    },
    {
      "metadata": {
        "id": "e-ZJPSwXPuq2",
        "colab_type": "code",
        "colab": {}
      },
      "cell_type": "code",
      "source": [
        "total = len(capital_dptos['price_usd_per_m2'])\n",
        "total.head()"
      ],
      "execution_count": 0,
      "outputs": []
    },
    {
      "metadata": {
        "id": "IevY94M5QgeL",
        "colab_type": "code",
        "colab": {}
      },
      "cell_type": "code",
      "source": [
        "diff_place = total - place"
      ],
      "execution_count": 0,
      "outputs": []
    },
    {
      "metadata": {
        "id": "mk3Y6qpnQgb9",
        "colab_type": "code",
        "colab": {}
      },
      "cell_type": "code",
      "source": [
        "diff_place = total - place\n",
        "diff_place.head()\n"
      ],
      "execution_count": 0,
      "outputs": []
    },
    {
      "metadata": {
        "id": "DHG9I5DXQgZg",
        "colab_type": "code",
        "colab": {}
      },
      "cell_type": "code",
      "source": [
        "price = capital_dptos['price_usd_per_m2'].isnull().sum()\n",
        "price.head()"
      ],
      "execution_count": 0,
      "outputs": []
    },
    {
      "metadata": {
        "id": "fqADVWVAQgXT",
        "colab_type": "code",
        "colab": {}
      },
      "cell_type": "code",
      "source": [
        "diff_price = total - price\n",
        "diff_price.head()"
      ],
      "execution_count": 0,
      "outputs": []
    },
    {
      "metadata": {
        "id": "U_pJS1uzQgVF",
        "colab_type": "code",
        "colab": {}
      },
      "cell_type": "code",
      "source": [
        "ll = capital_dptos['lat-lon'].isnull().sum()\n",
        "ll.head()"
      ],
      "execution_count": 0,
      "outputs": []
    },
    {
      "metadata": {
        "id": "hdyifoZjQgS1",
        "colab_type": "code",
        "colab": {}
      },
      "cell_type": "code",
      "source": [
        "diff_ll = total - ll\n",
        "diff_ll.head()"
      ],
      "execution_count": 0,
      "outputs": []
    },
    {
      "metadata": {
        "id": "LgAezJtBQgQk",
        "colab_type": "code",
        "colab": {}
      },
      "cell_type": "code",
      "source": [
        "faltantesplace = {'datos faltantes': place/total, 'datos no faltantes': diff_place/total}\n",
        "faltantesprice = {'datos faltantes': price/total, 'datos no faltantes': diff_price/total}\n",
        "faltantesll = {'datos faltantes': ll/total, 'datos no faltantes': diff_ll/total}\n",
        "data_falt_place = pd.Series(faltantesplace)\n",
        "data_falt_price = pd.Series(faltantesprice)\n",
        "data_falt_ll = pd.Series(faltantesll)"
      ],
      "execution_count": 0,
      "outputs": []
    },
    {
      "metadata": {
        "id": "4lAKAXLlQgM5",
        "colab_type": "code",
        "colab": {}
      },
      "cell_type": "code",
      "source": [
        "place1 = pd.DataFrame(data_falt_place, columns=['place'])"
      ],
      "execution_count": 0,
      "outputs": []
    },
    {
      "metadata": {
        "id": "Iw-MXX98QgJB",
        "colab_type": "code",
        "colab": {}
      },
      "cell_type": "code",
      "source": [
        "price1 = pd.DataFrame(data_falt_price, columns=['price'])"
      ],
      "execution_count": 0,
      "outputs": []
    },
    {
      "metadata": {
        "id": "URI7UvTFRBU1",
        "colab_type": "code",
        "colab": {}
      },
      "cell_type": "code",
      "source": [
        "ll1 = pd.DataFrame(data_falt_ll, columns=['Lat-Lon'])"
      ],
      "execution_count": 0,
      "outputs": []
    },
    {
      "metadata": {
        "id": "HpbFM4gqRBSU",
        "colab_type": "code",
        "colab": {}
      },
      "cell_type": "code",
      "source": [
        "todas = [place1, price1, ll1]\n",
        "\n",
        "todas = pd.concat(todas, axis=1)\n",
        "m_todas = todas.transpose()\n",
        "m_todas"
      ],
      "execution_count": 0,
      "outputs": []
    },
    {
      "metadata": {
        "id": "iTNdA6DeRBOq",
        "colab_type": "code",
        "colab": {}
      },
      "cell_type": "code",
      "source": [
        "m_todas.plot(kind='bar', stacked=True, figsize=(15,10), title= 'Missing Values', colormap='cool', fontsize=25)"
      ],
      "execution_count": 0,
      "outputs": []
    },
    {
      "metadata": {
        "id": "fr87iaQ6gAsC",
        "colab_type": "text"
      },
      "cell_type": "markdown",
      "source": [
        "# 5. ANALISIS  DESCRIPTIVO"
      ]
    },
    {
      "metadata": {
        "id": "_A5J_x0GgAsL",
        "colab_type": "text"
      },
      "cell_type": "markdown",
      "source": [
        "## 5.1 Tabla de frecuencias de tipo de vivienda en capital federal "
      ]
    },
    {
      "metadata": {
        "id": "ttYWyyrXgAsQ",
        "colab_type": "code",
        "colab": {},
        "outputId": "ef61566a-9a83-418d-c212-a11652471e25"
      },
      "cell_type": "code",
      "source": [
        "capital = df[df['state_name']=='Capital Federal']\n",
        "capital.groupby('property_type')['place_name'].describe()"
      ],
      "execution_count": 0,
      "outputs": [
        {
          "output_type": "execute_result",
          "data": {
            "text/html": [
              "<div>\n",
              "<style scoped>\n",
              "    .dataframe tbody tr th:only-of-type {\n",
              "        vertical-align: middle;\n",
              "    }\n",
              "\n",
              "    .dataframe tbody tr th {\n",
              "        vertical-align: top;\n",
              "    }\n",
              "\n",
              "    .dataframe thead th {\n",
              "        text-align: right;\n",
              "    }\n",
              "</style>\n",
              "<table border=\"1\" class=\"dataframe\">\n",
              "  <thead>\n",
              "    <tr style=\"text-align: right;\">\n",
              "      <th></th>\n",
              "      <th>count</th>\n",
              "      <th>unique</th>\n",
              "      <th>top</th>\n",
              "      <th>freq</th>\n",
              "    </tr>\n",
              "    <tr>\n",
              "      <th>property_type</th>\n",
              "      <th></th>\n",
              "      <th></th>\n",
              "      <th></th>\n",
              "      <th></th>\n",
              "    </tr>\n",
              "  </thead>\n",
              "  <tbody>\n",
              "    <tr>\n",
              "      <th>PH</th>\n",
              "      <td>1828</td>\n",
              "      <td>58</td>\n",
              "      <td>Mataderos</td>\n",
              "      <td>126</td>\n",
              "    </tr>\n",
              "    <tr>\n",
              "      <th>apartment</th>\n",
              "      <td>27037</td>\n",
              "      <td>62</td>\n",
              "      <td>Belgrano</td>\n",
              "      <td>2761</td>\n",
              "    </tr>\n",
              "    <tr>\n",
              "      <th>house</th>\n",
              "      <td>2087</td>\n",
              "      <td>58</td>\n",
              "      <td>Capital Federal</td>\n",
              "      <td>449</td>\n",
              "    </tr>\n",
              "    <tr>\n",
              "      <th>store</th>\n",
              "      <td>1364</td>\n",
              "      <td>57</td>\n",
              "      <td>Palermo</td>\n",
              "      <td>112</td>\n",
              "    </tr>\n",
              "  </tbody>\n",
              "</table>\n",
              "</div>"
            ],
            "text/plain": [
              "               count unique              top  freq\n",
              "property_type                                     \n",
              "PH              1828     58        Mataderos   126\n",
              "apartment      27037     62         Belgrano  2761\n",
              "house           2087     58  Capital Federal   449\n",
              "store           1364     57          Palermo   112"
            ]
          },
          "metadata": {
            "tags": []
          },
          "execution_count": 15
        }
      ]
    },
    {
      "metadata": {
        "id": "IrIKT5RVgAsZ",
        "colab_type": "code",
        "colab": {},
        "outputId": "7b8c7172-7a4b-41ee-d732-3e344ade3f27"
      },
      "cell_type": "code",
      "source": [
        "estad= deptos_capital.pivot_table(index='place_name', \n",
        "                    aggfunc={'precio_final':['mean','std','count']})\n",
        "estad.columns = estad.columns.droplevel(0)\n",
        "\n",
        "estad[\"place_name\"] = estad.index\n",
        "estad.sort_values(by = ['mean'],ascending = False,inplace = True)\n",
        "estad"
      ],
      "execution_count": 0,
      "outputs": [
        {
          "output_type": "execute_result",
          "data": {
            "text/html": [
              "<div>\n",
              "<style scoped>\n",
              "    .dataframe tbody tr th:only-of-type {\n",
              "        vertical-align: middle;\n",
              "    }\n",
              "\n",
              "    .dataframe tbody tr th {\n",
              "        vertical-align: top;\n",
              "    }\n",
              "\n",
              "    .dataframe thead th {\n",
              "        text-align: right;\n",
              "    }\n",
              "</style>\n",
              "<table border=\"1\" class=\"dataframe\">\n",
              "  <thead>\n",
              "    <tr style=\"text-align: right;\">\n",
              "      <th></th>\n",
              "      <th>count</th>\n",
              "      <th>mean</th>\n",
              "      <th>std</th>\n",
              "      <th>place_name</th>\n",
              "    </tr>\n",
              "    <tr>\n",
              "      <th>place_name</th>\n",
              "      <th></th>\n",
              "      <th></th>\n",
              "      <th></th>\n",
              "      <th></th>\n",
              "    </tr>\n",
              "  </thead>\n",
              "  <tbody>\n",
              "    <tr>\n",
              "      <th>Puerto Madero</th>\n",
              "      <td>535</td>\n",
              "      <td>6084.736791</td>\n",
              "      <td>1459.146687</td>\n",
              "      <td>Puerto Madero</td>\n",
              "    </tr>\n",
              "    <tr>\n",
              "      <th>Boedo</th>\n",
              "      <td>219</td>\n",
              "      <td>5375.251805</td>\n",
              "      <td>6038.806000</td>\n",
              "      <td>Boedo</td>\n",
              "    </tr>\n",
              "    <tr>\n",
              "      <th>Palermo Chico</th>\n",
              "      <td>171</td>\n",
              "      <td>4628.940260</td>\n",
              "      <td>2114.311258</td>\n",
              "      <td>Palermo Chico</td>\n",
              "    </tr>\n",
              "    <tr>\n",
              "      <th>Las CaÃ±itas</th>\n",
              "      <td>121</td>\n",
              "      <td>3515.608171</td>\n",
              "      <td>942.949809</td>\n",
              "      <td>Las CaÃ±itas</td>\n",
              "    </tr>\n",
              "    <tr>\n",
              "      <th>Palermo</th>\n",
              "      <td>2151</td>\n",
              "      <td>3352.383974</td>\n",
              "      <td>1182.799243</td>\n",
              "      <td>Palermo</td>\n",
              "    </tr>\n",
              "    <tr>\n",
              "      <th>Palermo Soho</th>\n",
              "      <td>253</td>\n",
              "      <td>3320.364840</td>\n",
              "      <td>1086.634031</td>\n",
              "      <td>Palermo Soho</td>\n",
              "    </tr>\n",
              "    <tr>\n",
              "      <th>NuÃ±ez</th>\n",
              "      <td>585</td>\n",
              "      <td>3316.719770</td>\n",
              "      <td>1470.044940</td>\n",
              "      <td>NuÃ±ez</td>\n",
              "    </tr>\n",
              "    <tr>\n",
              "      <th>Palermo Hollywood</th>\n",
              "      <td>390</td>\n",
              "      <td>3282.623060</td>\n",
              "      <td>917.443763</td>\n",
              "      <td>Palermo Hollywood</td>\n",
              "    </tr>\n",
              "    <tr>\n",
              "      <th>Recoleta</th>\n",
              "      <td>1267</td>\n",
              "      <td>3269.679013</td>\n",
              "      <td>989.707764</td>\n",
              "      <td>Recoleta</td>\n",
              "    </tr>\n",
              "    <tr>\n",
              "      <th>Palermo Viejo</th>\n",
              "      <td>28</td>\n",
              "      <td>3218.408950</td>\n",
              "      <td>1032.131832</td>\n",
              "      <td>Palermo Viejo</td>\n",
              "    </tr>\n",
              "    <tr>\n",
              "      <th>Belgrano</th>\n",
              "      <td>2175</td>\n",
              "      <td>3177.540642</td>\n",
              "      <td>1018.640842</td>\n",
              "      <td>Belgrano</td>\n",
              "    </tr>\n",
              "    <tr>\n",
              "      <th>Barrio Norte</th>\n",
              "      <td>921</td>\n",
              "      <td>3019.060451</td>\n",
              "      <td>952.667429</td>\n",
              "      <td>Barrio Norte</td>\n",
              "    </tr>\n",
              "    <tr>\n",
              "      <th>Villa Soldati</th>\n",
              "      <td>8</td>\n",
              "      <td>2957.495282</td>\n",
              "      <td>5484.068881</td>\n",
              "      <td>Villa Soldati</td>\n",
              "    </tr>\n",
              "    <tr>\n",
              "      <th>Retiro</th>\n",
              "      <td>200</td>\n",
              "      <td>2941.150000</td>\n",
              "      <td>998.474912</td>\n",
              "      <td>Retiro</td>\n",
              "    </tr>\n",
              "    <tr>\n",
              "      <th>Capital Federal</th>\n",
              "      <td>386</td>\n",
              "      <td>2630.803895</td>\n",
              "      <td>1292.143472</td>\n",
              "      <td>Capital Federal</td>\n",
              "    </tr>\n",
              "    <tr>\n",
              "      <th>Colegiales</th>\n",
              "      <td>255</td>\n",
              "      <td>2625.464842</td>\n",
              "      <td>620.939130</td>\n",
              "      <td>Colegiales</td>\n",
              "    </tr>\n",
              "    <tr>\n",
              "      <th>Coghlan</th>\n",
              "      <td>198</td>\n",
              "      <td>2606.817407</td>\n",
              "      <td>891.781657</td>\n",
              "      <td>Coghlan</td>\n",
              "    </tr>\n",
              "    <tr>\n",
              "      <th>Villa Urquiza</th>\n",
              "      <td>1126</td>\n",
              "      <td>2568.221827</td>\n",
              "      <td>664.718060</td>\n",
              "      <td>Villa Urquiza</td>\n",
              "    </tr>\n",
              "    <tr>\n",
              "      <th>Villa Crespo</th>\n",
              "      <td>947</td>\n",
              "      <td>2542.676880</td>\n",
              "      <td>527.256117</td>\n",
              "      <td>Villa Crespo</td>\n",
              "    </tr>\n",
              "    <tr>\n",
              "      <th>Villa Ortuzar</th>\n",
              "      <td>66</td>\n",
              "      <td>2491.536434</td>\n",
              "      <td>777.263071</td>\n",
              "      <td>Villa Ortuzar</td>\n",
              "    </tr>\n",
              "    <tr>\n",
              "      <th>Caballito</th>\n",
              "      <td>1730</td>\n",
              "      <td>2480.303135</td>\n",
              "      <td>741.798433</td>\n",
              "      <td>Caballito</td>\n",
              "    </tr>\n",
              "    <tr>\n",
              "      <th>Saavedra</th>\n",
              "      <td>401</td>\n",
              "      <td>2426.353039</td>\n",
              "      <td>514.271569</td>\n",
              "      <td>Saavedra</td>\n",
              "    </tr>\n",
              "    <tr>\n",
              "      <th>San Telmo</th>\n",
              "      <td>836</td>\n",
              "      <td>2382.343151</td>\n",
              "      <td>580.635029</td>\n",
              "      <td>San Telmo</td>\n",
              "    </tr>\n",
              "    <tr>\n",
              "      <th>Versalles</th>\n",
              "      <td>18</td>\n",
              "      <td>2373.898403</td>\n",
              "      <td>1221.400653</td>\n",
              "      <td>Versalles</td>\n",
              "    </tr>\n",
              "    <tr>\n",
              "      <th>Villa Devoto</th>\n",
              "      <td>219</td>\n",
              "      <td>2367.297727</td>\n",
              "      <td>1092.442099</td>\n",
              "      <td>Villa Devoto</td>\n",
              "    </tr>\n",
              "    <tr>\n",
              "      <th>Villa del Parque</th>\n",
              "      <td>341</td>\n",
              "      <td>2346.402913</td>\n",
              "      <td>560.582657</td>\n",
              "      <td>Villa del Parque</td>\n",
              "    </tr>\n",
              "    <tr>\n",
              "      <th>Parque Chas</th>\n",
              "      <td>34</td>\n",
              "      <td>2325.997522</td>\n",
              "      <td>354.834014</td>\n",
              "      <td>Parque Chas</td>\n",
              "    </tr>\n",
              "    <tr>\n",
              "      <th>Parque Centenario</th>\n",
              "      <td>57</td>\n",
              "      <td>2298.092858</td>\n",
              "      <td>460.793567</td>\n",
              "      <td>Parque Centenario</td>\n",
              "    </tr>\n",
              "    <tr>\n",
              "      <th>Centro / Microcentro</th>\n",
              "      <td>154</td>\n",
              "      <td>2291.744438</td>\n",
              "      <td>754.732833</td>\n",
              "      <td>Centro / Microcentro</td>\n",
              "    </tr>\n",
              "    <tr>\n",
              "      <th>Villa PueyrredÃ³n</th>\n",
              "      <td>103</td>\n",
              "      <td>2276.363439</td>\n",
              "      <td>500.329255</td>\n",
              "      <td>Villa PueyrredÃ³n</td>\n",
              "    </tr>\n",
              "    <tr>\n",
              "      <th>...</th>\n",
              "      <td>...</td>\n",
              "      <td>...</td>\n",
              "      <td>...</td>\n",
              "      <td>...</td>\n",
              "    </tr>\n",
              "    <tr>\n",
              "      <th>Almagro</th>\n",
              "      <td>818</td>\n",
              "      <td>2232.467968</td>\n",
              "      <td>487.568543</td>\n",
              "      <td>Almagro</td>\n",
              "    </tr>\n",
              "    <tr>\n",
              "      <th>AgronomÃ­a</th>\n",
              "      <td>27</td>\n",
              "      <td>2231.725116</td>\n",
              "      <td>236.078552</td>\n",
              "      <td>AgronomÃ­a</td>\n",
              "    </tr>\n",
              "    <tr>\n",
              "      <th>Villa Luro</th>\n",
              "      <td>228</td>\n",
              "      <td>2173.836754</td>\n",
              "      <td>458.865316</td>\n",
              "      <td>Villa Luro</td>\n",
              "    </tr>\n",
              "    <tr>\n",
              "      <th>Monserrat</th>\n",
              "      <td>430</td>\n",
              "      <td>2163.828551</td>\n",
              "      <td>537.756323</td>\n",
              "      <td>Monserrat</td>\n",
              "    </tr>\n",
              "    <tr>\n",
              "      <th>Tribunales</th>\n",
              "      <td>64</td>\n",
              "      <td>2162.017592</td>\n",
              "      <td>736.874084</td>\n",
              "      <td>Tribunales</td>\n",
              "    </tr>\n",
              "    <tr>\n",
              "      <th>Pompeya</th>\n",
              "      <td>16</td>\n",
              "      <td>2158.138953</td>\n",
              "      <td>3221.270132</td>\n",
              "      <td>Pompeya</td>\n",
              "    </tr>\n",
              "    <tr>\n",
              "      <th>San NicolÃ¡s</th>\n",
              "      <td>146</td>\n",
              "      <td>2127.855391</td>\n",
              "      <td>576.296534</td>\n",
              "      <td>San NicolÃ¡s</td>\n",
              "    </tr>\n",
              "    <tr>\n",
              "      <th>Abasto</th>\n",
              "      <td>61</td>\n",
              "      <td>2100.086834</td>\n",
              "      <td>495.923566</td>\n",
              "      <td>Abasto</td>\n",
              "    </tr>\n",
              "    <tr>\n",
              "      <th>Flores</th>\n",
              "      <td>955</td>\n",
              "      <td>2083.290391</td>\n",
              "      <td>398.751167</td>\n",
              "      <td>Flores</td>\n",
              "    </tr>\n",
              "    <tr>\n",
              "      <th>Barracas</th>\n",
              "      <td>295</td>\n",
              "      <td>2075.978616</td>\n",
              "      <td>547.297317</td>\n",
              "      <td>Barracas</td>\n",
              "    </tr>\n",
              "    <tr>\n",
              "      <th>Villa Santa Rita</th>\n",
              "      <td>24</td>\n",
              "      <td>2071.039612</td>\n",
              "      <td>324.945350</td>\n",
              "      <td>Villa Santa Rita</td>\n",
              "    </tr>\n",
              "    <tr>\n",
              "      <th>Congreso</th>\n",
              "      <td>254</td>\n",
              "      <td>2057.830157</td>\n",
              "      <td>1882.024164</td>\n",
              "      <td>Congreso</td>\n",
              "    </tr>\n",
              "    <tr>\n",
              "      <th>Paternal</th>\n",
              "      <td>94</td>\n",
              "      <td>2056.671895</td>\n",
              "      <td>367.471282</td>\n",
              "      <td>Paternal</td>\n",
              "    </tr>\n",
              "    <tr>\n",
              "      <th>Villa General Mitre</th>\n",
              "      <td>28</td>\n",
              "      <td>2019.614848</td>\n",
              "      <td>248.310161</td>\n",
              "      <td>Villa General Mitre</td>\n",
              "    </tr>\n",
              "    <tr>\n",
              "      <th>San Cristobal</th>\n",
              "      <td>267</td>\n",
              "      <td>2004.830609</td>\n",
              "      <td>626.655915</td>\n",
              "      <td>San Cristobal</td>\n",
              "    </tr>\n",
              "    <tr>\n",
              "      <th>Parque Patricios</th>\n",
              "      <td>144</td>\n",
              "      <td>1995.511722</td>\n",
              "      <td>1537.381268</td>\n",
              "      <td>Parque Patricios</td>\n",
              "    </tr>\n",
              "    <tr>\n",
              "      <th>Mataderos</th>\n",
              "      <td>110</td>\n",
              "      <td>1988.649857</td>\n",
              "      <td>1533.780532</td>\n",
              "      <td>Mataderos</td>\n",
              "    </tr>\n",
              "    <tr>\n",
              "      <th>Liniers</th>\n",
              "      <td>162</td>\n",
              "      <td>1984.849642</td>\n",
              "      <td>469.639402</td>\n",
              "      <td>Liniers</td>\n",
              "    </tr>\n",
              "    <tr>\n",
              "      <th>Monte Castro</th>\n",
              "      <td>41</td>\n",
              "      <td>1982.062339</td>\n",
              "      <td>567.337539</td>\n",
              "      <td>Monte Castro</td>\n",
              "    </tr>\n",
              "    <tr>\n",
              "      <th>Parque Chacabuco</th>\n",
              "      <td>70</td>\n",
              "      <td>1973.261520</td>\n",
              "      <td>513.975379</td>\n",
              "      <td>Parque Chacabuco</td>\n",
              "    </tr>\n",
              "    <tr>\n",
              "      <th>Balvanera</th>\n",
              "      <td>537</td>\n",
              "      <td>1971.253226</td>\n",
              "      <td>822.624007</td>\n",
              "      <td>Balvanera</td>\n",
              "    </tr>\n",
              "    <tr>\n",
              "      <th>Once</th>\n",
              "      <td>126</td>\n",
              "      <td>1919.219149</td>\n",
              "      <td>734.199961</td>\n",
              "      <td>Once</td>\n",
              "    </tr>\n",
              "    <tr>\n",
              "      <th>Floresta</th>\n",
              "      <td>269</td>\n",
              "      <td>1909.328454</td>\n",
              "      <td>423.820068</td>\n",
              "      <td>Floresta</td>\n",
              "    </tr>\n",
              "    <tr>\n",
              "      <th>Catalinas</th>\n",
              "      <td>1</td>\n",
              "      <td>1833.333333</td>\n",
              "      <td>NaN</td>\n",
              "      <td>Catalinas</td>\n",
              "    </tr>\n",
              "    <tr>\n",
              "      <th>Boca</th>\n",
              "      <td>159</td>\n",
              "      <td>1827.746420</td>\n",
              "      <td>1170.361969</td>\n",
              "      <td>Boca</td>\n",
              "    </tr>\n",
              "    <tr>\n",
              "      <th>Villa Real</th>\n",
              "      <td>8</td>\n",
              "      <td>1796.340461</td>\n",
              "      <td>380.119005</td>\n",
              "      <td>Villa Real</td>\n",
              "    </tr>\n",
              "    <tr>\n",
              "      <th>ConstituciÃ³n</th>\n",
              "      <td>162</td>\n",
              "      <td>1781.171890</td>\n",
              "      <td>471.226436</td>\n",
              "      <td>ConstituciÃ³n</td>\n",
              "    </tr>\n",
              "    <tr>\n",
              "      <th>Parque Avellaneda</th>\n",
              "      <td>22</td>\n",
              "      <td>1636.099525</td>\n",
              "      <td>483.199707</td>\n",
              "      <td>Parque Avellaneda</td>\n",
              "    </tr>\n",
              "    <tr>\n",
              "      <th>Villa Riachuelo</th>\n",
              "      <td>1</td>\n",
              "      <td>1416.666667</td>\n",
              "      <td>NaN</td>\n",
              "      <td>Villa Riachuelo</td>\n",
              "    </tr>\n",
              "    <tr>\n",
              "      <th>Villa Lugano</th>\n",
              "      <td>78</td>\n",
              "      <td>1308.061610</td>\n",
              "      <td>478.233877</td>\n",
              "      <td>Villa Lugano</td>\n",
              "    </tr>\n",
              "  </tbody>\n",
              "</table>\n",
              "<p>62 rows × 4 columns</p>\n",
              "</div>"
            ],
            "text/plain": [
              "                      count         mean          std            place_name\n",
              "place_name                                                                 \n",
              "Puerto Madero           535  6084.736791  1459.146687         Puerto Madero\n",
              "Boedo                   219  5375.251805  6038.806000                 Boedo\n",
              "Palermo Chico           171  4628.940260  2114.311258         Palermo Chico\n",
              "Las CaÃ±itas            121  3515.608171   942.949809          Las CaÃ±itas\n",
              "Palermo                2151  3352.383974  1182.799243               Palermo\n",
              "Palermo Soho            253  3320.364840  1086.634031          Palermo Soho\n",
              "NuÃ±ez                  585  3316.719770  1470.044940                NuÃ±ez\n",
              "Palermo Hollywood       390  3282.623060   917.443763     Palermo Hollywood\n",
              "Recoleta               1267  3269.679013   989.707764              Recoleta\n",
              "Palermo Viejo            28  3218.408950  1032.131832         Palermo Viejo\n",
              "Belgrano               2175  3177.540642  1018.640842              Belgrano\n",
              "Barrio Norte            921  3019.060451   952.667429          Barrio Norte\n",
              "Villa Soldati             8  2957.495282  5484.068881         Villa Soldati\n",
              "Retiro                  200  2941.150000   998.474912                Retiro\n",
              "Capital Federal         386  2630.803895  1292.143472       Capital Federal\n",
              "Colegiales              255  2625.464842   620.939130            Colegiales\n",
              "Coghlan                 198  2606.817407   891.781657               Coghlan\n",
              "Villa Urquiza          1126  2568.221827   664.718060         Villa Urquiza\n",
              "Villa Crespo            947  2542.676880   527.256117          Villa Crespo\n",
              "Villa Ortuzar            66  2491.536434   777.263071         Villa Ortuzar\n",
              "Caballito              1730  2480.303135   741.798433             Caballito\n",
              "Saavedra                401  2426.353039   514.271569              Saavedra\n",
              "San Telmo               836  2382.343151   580.635029             San Telmo\n",
              "Versalles                18  2373.898403  1221.400653             Versalles\n",
              "Villa Devoto            219  2367.297727  1092.442099          Villa Devoto\n",
              "Villa del Parque        341  2346.402913   560.582657      Villa del Parque\n",
              "Parque Chas              34  2325.997522   354.834014           Parque Chas\n",
              "Parque Centenario        57  2298.092858   460.793567     Parque Centenario\n",
              "Centro / Microcentro    154  2291.744438   754.732833  Centro / Microcentro\n",
              "Villa PueyrredÃ³n       103  2276.363439   500.329255     Villa PueyrredÃ³n\n",
              "...                     ...          ...          ...                   ...\n",
              "Almagro                 818  2232.467968   487.568543               Almagro\n",
              "AgronomÃ­a               27  2231.725116   236.078552            AgronomÃ­a\n",
              "Villa Luro              228  2173.836754   458.865316            Villa Luro\n",
              "Monserrat               430  2163.828551   537.756323             Monserrat\n",
              "Tribunales               64  2162.017592   736.874084            Tribunales\n",
              "Pompeya                  16  2158.138953  3221.270132               Pompeya\n",
              "San NicolÃ¡s            146  2127.855391   576.296534          San NicolÃ¡s\n",
              "Abasto                   61  2100.086834   495.923566                Abasto\n",
              "Flores                  955  2083.290391   398.751167                Flores\n",
              "Barracas                295  2075.978616   547.297317              Barracas\n",
              "Villa Santa Rita         24  2071.039612   324.945350      Villa Santa Rita\n",
              "Congreso                254  2057.830157  1882.024164              Congreso\n",
              "Paternal                 94  2056.671895   367.471282              Paternal\n",
              "Villa General Mitre      28  2019.614848   248.310161   Villa General Mitre\n",
              "San Cristobal           267  2004.830609   626.655915         San Cristobal\n",
              "Parque Patricios        144  1995.511722  1537.381268      Parque Patricios\n",
              "Mataderos               110  1988.649857  1533.780532             Mataderos\n",
              "Liniers                 162  1984.849642   469.639402               Liniers\n",
              "Monte Castro             41  1982.062339   567.337539          Monte Castro\n",
              "Parque Chacabuco         70  1973.261520   513.975379      Parque Chacabuco\n",
              "Balvanera               537  1971.253226   822.624007             Balvanera\n",
              "Once                    126  1919.219149   734.199961                  Once\n",
              "Floresta                269  1909.328454   423.820068              Floresta\n",
              "Catalinas                 1  1833.333333          NaN             Catalinas\n",
              "Boca                    159  1827.746420  1170.361969                  Boca\n",
              "Villa Real                8  1796.340461   380.119005            Villa Real\n",
              "ConstituciÃ³n           162  1781.171890   471.226436         ConstituciÃ³n\n",
              "Parque Avellaneda        22  1636.099525   483.199707     Parque Avellaneda\n",
              "Villa Riachuelo           1  1416.666667          NaN       Villa Riachuelo\n",
              "Villa Lugano             78  1308.061610   478.233877          Villa Lugano\n",
              "\n",
              "[62 rows x 4 columns]"
            ]
          },
          "metadata": {
            "tags": []
          },
          "execution_count": 156
        }
      ]
    },
    {
      "metadata": {
        "id": "IB6uIcZ4gAsk",
        "colab_type": "code",
        "colab": {},
        "outputId": "cb580b2d-c445-4530-fae9-e7c149807f05"
      },
      "cell_type": "code",
      "source": [
        "estad.columns"
      ],
      "execution_count": 0,
      "outputs": [
        {
          "output_type": "execute_result",
          "data": {
            "text/plain": [
              "Index(['count', 'mean', 'std', 'place_name'], dtype='object')"
            ]
          },
          "metadata": {
            "tags": []
          },
          "execution_count": 145
        }
      ]
    },
    {
      "metadata": {
        "id": "OZwE8xQYgAs0",
        "colab_type": "text"
      },
      "cell_type": "markdown",
      "source": [
        "# 6. GRAFICOS"
      ]
    },
    {
      "metadata": {
        "id": "pogNaNaugAs2",
        "colab_type": "text"
      },
      "cell_type": "markdown",
      "source": [
        "# 6.1 Distribucion del precio por barrio"
      ]
    },
    {
      "metadata": {
        "id": "__3wwWYUgAs7",
        "colab_type": "code",
        "colab": {},
        "outputId": "a57b9a17-ae3c-4d28-e669-41a2fb4be243"
      },
      "cell_type": "code",
      "source": [
        "data = [py.graph_objs.Bar(x=estad[\"place_name\"],y=estad[\"mean\"])]\n",
        "py.offline.iplot(data)"
      ],
      "execution_count": 0,
      "outputs": [
        {
          "output_type": "display_data",
          "data": {
            "application/vnd.plotly.v1+json": {
              "data": [
                {
                  "type": "bar",
                  "uid": "9d671a08-b0ab-11e8-bc2d-1c872c5ba79e",
                  "x": [
                    "Puerto Madero",
                    "Boedo",
                    "Palermo Chico",
                    "Las CaÃ±itas",
                    "Palermo",
                    "Palermo Soho",
                    "NuÃ±ez",
                    "Palermo Hollywood",
                    "Recoleta",
                    "Palermo Viejo",
                    "Belgrano",
                    "Barrio Norte",
                    "Villa Soldati",
                    "Retiro",
                    "Capital Federal",
                    "Colegiales",
                    "Coghlan",
                    "Villa Urquiza",
                    "Villa Crespo",
                    "Villa Ortuzar",
                    "Caballito",
                    "Saavedra",
                    "San Telmo",
                    "Versalles",
                    "Villa Devoto",
                    "Villa del Parque",
                    "Parque Chas",
                    "Parque Centenario",
                    "Centro / Microcentro",
                    "Villa PueyrredÃ³n",
                    "Chacarita",
                    "Velez Sarsfield",
                    "Almagro",
                    "AgronomÃ­a",
                    "Villa Luro",
                    "Monserrat",
                    "Tribunales",
                    "Pompeya",
                    "San NicolÃ¡s",
                    "Abasto",
                    "Flores",
                    "Barracas",
                    "Villa Santa Rita",
                    "Congreso",
                    "Paternal",
                    "Villa General Mitre",
                    "San Cristobal",
                    "Parque Patricios",
                    "Mataderos",
                    "Liniers",
                    "Monte Castro",
                    "Parque Chacabuco",
                    "Balvanera",
                    "Once",
                    "Floresta",
                    "Catalinas",
                    "Boca",
                    "Villa Real",
                    "ConstituciÃ³n",
                    "Parque Avellaneda",
                    "Villa Riachuelo",
                    "Villa Lugano"
                  ],
                  "y": [
                    6084.736791172369,
                    5375.251805463341,
                    4628.940260113687,
                    3515.60817114509,
                    3352.38397364155,
                    3320.364839929275,
                    3316.71976968912,
                    3282.623059603156,
                    3269.679012605086,
                    3218.4089501077715,
                    3177.5406417869804,
                    3019.0604513963326,
                    2957.495281811784,
                    2941.150000001589,
                    2630.803894510245,
                    2625.4648416939303,
                    2606.8174069764427,
                    2568.221826850519,
                    2542.676879555257,
                    2491.536433566206,
                    2480.3031352157814,
                    2426.353039256928,
                    2382.3431506863312,
                    2373.8984028742198,
                    2367.297726803425,
                    2346.4029125468737,
                    2325.997521755669,
                    2298.092857813213,
                    2291.744438378363,
                    2276.3634394669903,
                    2266.242133174089,
                    2240.4277538028427,
                    2232.467968085653,
                    2231.7251159022844,
                    2173.8367535480243,
                    2163.828551449313,
                    2162.017591606383,
                    2158.1389525799223,
                    2127.855390709714,
                    2100.086834418812,
                    2083.2903912525917,
                    2075.9786162425016,
                    2071.039612189484,
                    2057.8301566562077,
                    2056.671894640395,
                    2019.6148480533518,
                    2004.8306093116362,
                    1995.5117223979582,
                    1988.6498568850322,
                    1984.8496417547224,
                    1982.0623387076569,
                    1973.2615202172049,
                    1971.2532261109202,
                    1919.2191490618802,
                    1909.3284538504527,
                    1833.333333333333,
                    1827.7464196152532,
                    1796.3404612725785,
                    1781.1718899774125,
                    1636.0995254966983,
                    1416.666666666667,
                    1308.0616097202255
                  ]
                }
              ],
              "layout": {}
            },
            "text/html": [
              "<div id=\"c84217e8-5b5e-4d1f-aaf4-9ba64f369cb7\" style=\"height: 525px; width: 100%;\" class=\"plotly-graph-div\"></div><script type=\"text/javascript\">require([\"plotly\"], function(Plotly) { window.PLOTLYENV=window.PLOTLYENV || {};window.PLOTLYENV.BASE_URL=\"https://plot.ly\";Plotly.newPlot(\"c84217e8-5b5e-4d1f-aaf4-9ba64f369cb7\", [{\"x\": [\"Puerto Madero\", \"Boedo\", \"Palermo Chico\", \"Las Ca\\u00c3\\u00b1itas\", \"Palermo\", \"Palermo Soho\", \"Nu\\u00c3\\u00b1ez\", \"Palermo Hollywood\", \"Recoleta\", \"Palermo Viejo\", \"Belgrano\", \"Barrio Norte\", \"Villa Soldati\", \"Retiro\", \"Capital Federal\", \"Colegiales\", \"Coghlan\", \"Villa Urquiza\", \"Villa Crespo\", \"Villa Ortuzar\", \"Caballito\", \"Saavedra\", \"San Telmo\", \"Versalles\", \"Villa Devoto\", \"Villa del Parque\", \"Parque Chas\", \"Parque Centenario\", \"Centro / Microcentro\", \"Villa Pueyrred\\u00c3\\u00b3n\", \"Chacarita\", \"Velez Sarsfield\", \"Almagro\", \"Agronom\\u00c3\\u00ada\", \"Villa Luro\", \"Monserrat\", \"Tribunales\", \"Pompeya\", \"San Nicol\\u00c3\\u00a1s\", \"Abasto\", \"Flores\", \"Barracas\", \"Villa Santa Rita\", \"Congreso\", \"Paternal\", \"Villa General Mitre\", \"San Cristobal\", \"Parque Patricios\", \"Mataderos\", \"Liniers\", \"Monte Castro\", \"Parque Chacabuco\", \"Balvanera\", \"Once\", \"Floresta\", \"Catalinas\", \"Boca\", \"Villa Real\", \"Constituci\\u00c3\\u00b3n\", \"Parque Avellaneda\", \"Villa Riachuelo\", \"Villa Lugano\"], \"y\": [6084.736791172369, 5375.251805463341, 4628.940260113687, 3515.60817114509, 3352.38397364155, 3320.364839929275, 3316.71976968912, 3282.623059603156, 3269.679012605086, 3218.4089501077715, 3177.5406417869804, 3019.0604513963326, 2957.495281811784, 2941.150000001589, 2630.803894510245, 2625.4648416939303, 2606.8174069764427, 2568.221826850519, 2542.676879555257, 2491.536433566206, 2480.3031352157814, 2426.353039256928, 2382.3431506863312, 2373.8984028742198, 2367.297726803425, 2346.4029125468737, 2325.997521755669, 2298.092857813213, 2291.744438378363, 2276.3634394669903, 2266.242133174089, 2240.4277538028427, 2232.467968085653, 2231.7251159022844, 2173.8367535480243, 2163.828551449313, 2162.017591606383, 2158.1389525799223, 2127.855390709714, 2100.086834418812, 2083.2903912525917, 2075.9786162425016, 2071.039612189484, 2057.8301566562077, 2056.671894640395, 2019.6148480533518, 2004.8306093116362, 1995.5117223979582, 1988.6498568850322, 1984.8496417547224, 1982.0623387076569, 1973.2615202172049, 1971.2532261109202, 1919.2191490618802, 1909.3284538504527, 1833.333333333333, 1827.7464196152532, 1796.3404612725785, 1781.1718899774125, 1636.0995254966983, 1416.666666666667, 1308.0616097202255], \"type\": \"bar\", \"uid\": \"9d6c2636-b0ab-11e8-a08f-1c872c5ba79e\"}], {}, {\"showLink\": true, \"linkText\": \"Export to plot.ly\"})});</script>"
            ],
            "text/vnd.plotly.v1+html": "<div id=\"c84217e8-5b5e-4d1f-aaf4-9ba64f369cb7\" style=\"height: 525px; width: 100%;\" class=\"plotly-graph-div\"></div><script type=\"text/javascript\">require([\"plotly\"], function(Plotly) { window.PLOTLYENV=window.PLOTLYENV || {};window.PLOTLYENV.BASE_URL=\"https://plot.ly\";Plotly.newPlot(\"c84217e8-5b5e-4d1f-aaf4-9ba64f369cb7\", [{\"x\": [\"Puerto Madero\", \"Boedo\", \"Palermo Chico\", \"Las Ca\\u00c3\\u00b1itas\", \"Palermo\", \"Palermo Soho\", \"Nu\\u00c3\\u00b1ez\", \"Palermo Hollywood\", \"Recoleta\", \"Palermo Viejo\", \"Belgrano\", \"Barrio Norte\", \"Villa Soldati\", \"Retiro\", \"Capital Federal\", \"Colegiales\", \"Coghlan\", \"Villa Urquiza\", \"Villa Crespo\", \"Villa Ortuzar\", \"Caballito\", \"Saavedra\", \"San Telmo\", \"Versalles\", \"Villa Devoto\", \"Villa del Parque\", \"Parque Chas\", \"Parque Centenario\", \"Centro / Microcentro\", \"Villa Pueyrred\\u00c3\\u00b3n\", \"Chacarita\", \"Velez Sarsfield\", \"Almagro\", \"Agronom\\u00c3\\u00ada\", \"Villa Luro\", \"Monserrat\", \"Tribunales\", \"Pompeya\", \"San Nicol\\u00c3\\u00a1s\", \"Abasto\", \"Flores\", \"Barracas\", \"Villa Santa Rita\", \"Congreso\", \"Paternal\", \"Villa General Mitre\", \"San Cristobal\", \"Parque Patricios\", \"Mataderos\", \"Liniers\", \"Monte Castro\", \"Parque Chacabuco\", \"Balvanera\", \"Once\", \"Floresta\", \"Catalinas\", \"Boca\", \"Villa Real\", \"Constituci\\u00c3\\u00b3n\", \"Parque Avellaneda\", \"Villa Riachuelo\", \"Villa Lugano\"], \"y\": [6084.736791172369, 5375.251805463341, 4628.940260113687, 3515.60817114509, 3352.38397364155, 3320.364839929275, 3316.71976968912, 3282.623059603156, 3269.679012605086, 3218.4089501077715, 3177.5406417869804, 3019.0604513963326, 2957.495281811784, 2941.150000001589, 2630.803894510245, 2625.4648416939303, 2606.8174069764427, 2568.221826850519, 2542.676879555257, 2491.536433566206, 2480.3031352157814, 2426.353039256928, 2382.3431506863312, 2373.8984028742198, 2367.297726803425, 2346.4029125468737, 2325.997521755669, 2298.092857813213, 2291.744438378363, 2276.3634394669903, 2266.242133174089, 2240.4277538028427, 2232.467968085653, 2231.7251159022844, 2173.8367535480243, 2163.828551449313, 2162.017591606383, 2158.1389525799223, 2127.855390709714, 2100.086834418812, 2083.2903912525917, 2075.9786162425016, 2071.039612189484, 2057.8301566562077, 2056.671894640395, 2019.6148480533518, 2004.8306093116362, 1995.5117223979582, 1988.6498568850322, 1984.8496417547224, 1982.0623387076569, 1973.2615202172049, 1971.2532261109202, 1919.2191490618802, 1909.3284538504527, 1833.333333333333, 1827.7464196152532, 1796.3404612725785, 1781.1718899774125, 1636.0995254966983, 1416.666666666667, 1308.0616097202255], \"type\": \"bar\", \"uid\": \"9d6c2636-b0ab-11e8-a08f-1c872c5ba79e\"}], {}, {\"showLink\": true, \"linkText\": \"Export to plot.ly\"})});</script>"
          },
          "metadata": {
            "tags": []
          }
        }
      ]
    },
    {
      "metadata": {
        "id": "RMgWtv4YgAtF",
        "colab_type": "code",
        "colab": {},
        "outputId": "afce02b5-a49b-4ead-d38e-5c5af6369425"
      },
      "cell_type": "code",
      "source": [
        "import plotly.plotly as py\n",
        "import plotly.graph_objs as go\n",
        "import numpy as np\n",
        "\n",
        "y0 = deptos_capital.loc[deptos_capital.place_name == \"Puerto Madero\",[\"precio_final\"]]\n",
        "y1 = deptos_capital.loc[deptos_capital.place_name == \"Boedo\",[\"precio_final\"]]\n",
        "\n",
        "y0 = y0.values\n",
        "y1 = y1.values\n",
        "\n",
        "trace0 = go.Box(\n",
        "    y=y0,\n",
        "    name = 'Puerto Madero',\n",
        "    marker = dict(\n",
        "        color = 'rgb(214, 12, 140)',\n",
        "    )\n",
        ")\n",
        "trace1 = go.Box(\n",
        "    y=y1,\n",
        "    name = 'Boedo',\n",
        "    marker = dict(\n",
        "        color = 'rgb(0, 128, 128)',\n",
        "    )\n",
        ")\n",
        "data = [trace0, trace1]\n",
        "py.iplot(data)"
      ],
      "execution_count": 0,
      "outputs": [
        {
          "output_type": "execute_result",
          "data": {
            "text/html": [
              "<iframe id=\"igraph\" scrolling=\"no\" style=\"border:none;\" seamless=\"seamless\" src=\"https://plot.ly/~facundole/22.embed\" height=\"525px\" width=\"100%\"></iframe>"
            ],
            "text/plain": [
              "<plotly.tools.PlotlyDisplay object>"
            ]
          },
          "metadata": {
            "tags": []
          },
          "execution_count": 189
        }
      ]
    },
    {
      "metadata": {
        "id": "WXM7LyY2GXX3",
        "colab_type": "text"
      },
      "cell_type": "markdown",
      "source": [
        "#6.2 Distribución del precio por Amenities"
      ]
    },
    {
      "metadata": {
        "id": "VRpnccapGkwE",
        "colab_type": "code",
        "colab": {}
      },
      "cell_type": "code",
      "source": [
        "amenities = deptos_capital[['price', 'pileta', 'gimnasio', 'terraza', 'cochera']]"
      ],
      "execution_count": 0,
      "outputs": []
    },
    {
      "metadata": {
        "id": "BcElRF9hHGnZ",
        "colab_type": "code",
        "colab": {}
      },
      "cell_type": "code",
      "source": [
        "amenities[amenities['price'] > amenities['price'].mean()].pileta.value_counts()"
      ],
      "execution_count": 0,
      "outputs": []
    },
    {
      "metadata": {
        "id": "-yvEAHUvHG3g",
        "colab_type": "code",
        "colab": {}
      },
      "cell_type": "code",
      "source": [
        "p = amenities[(amenities['pileta']==True)]['price'].mean()\n",
        "\n",
        "g = amenities[(amenities['gimnasio']==True)]['price'].mean()\n",
        "\n",
        "c = amenities[(amenities['cochera']==True)]['price'].mean()\n",
        "\n",
        "t = amenities[(amenities['terraza']==True)]['price'].mean()\n",
        "\n",
        "pt = amenities[(amenities['pileta']==True)&(amenities['terraza']==True)]['price'].mean()\n",
        "\n",
        "pc = amenities[(amenities['pileta']==True)&(amenities['cochera']==True)]['price'].mean()\n",
        "\n",
        "pg = amenities[(amenities['pileta']==True)&(amenities['gimnasio']==True)]['price'].mean()\n",
        "\n",
        "gt = amenities[(amenities['gimnasio']==True)&(amenities['terraza']==True)]['price'].mean()\n",
        "\n",
        "gc = amenities[(amenities['gimnasio']==True)&(amenities['cochera']==True)]['price'].mean()\n",
        "\n",
        "ct = amenities[(amenities['cochera']==True)&(amenities['terraza']==True)]['price'].mean()\n",
        "\n",
        "ptc = amenities[(amenities['pileta']==True)&(amenities['terraza']==True)&(amenities['cochera']==True)]['price'].mean()\n",
        "\n",
        "ptg = amenities[(amenities['pileta']==True)&(amenities['terraza']==True)&(amenities['gimnasio']==True)]['price'].mean()\n",
        "\n",
        "pgc = amenities[(amenities['pileta']==True)&(amenities['gimnasio']==True)&(amenities['cochera']==True)]['price'].mean()\n",
        "\n",
        "gtc = amenities[(amenities['gimnasio']==True)&(amenities['terraza']==True)&(amenities['cochera']==True)]['price'].mean()\n",
        "\n",
        "todas = amenities[(amenities['pileta']==True)&(amenities['terraza']==True)&(amenities['cochera']==True)&(amenities['gimnasio']==True)]['price'].mean()"
      ],
      "execution_count": 0,
      "outputs": []
    },
    {
      "metadata": {
        "id": "4dNQrykqHG6P",
        "colab_type": "code",
        "colab": {}
      },
      "cell_type": "code",
      "source": [
        "py.offline.init_notebook_mode(connected=True)\n",
        "data = [go.Bar(\n",
        "            x=['Promedio total ', 'P', 'T','G', 'C','PyT','PyC', 'PyG', 'GyC', 'GyT', 'CyT','PGyC', 'PGyT','PCyT', 'GCyT', 'Todas' ],\n",
        "            y=[normal, p,t,g,c, pt,pc,pg,gc,gt,ct,pgc,ptg,ptc,gtc,todas]\n",
        "    )]\n",
        "\n",
        "py.offline.iplot(data)"
      ],
      "execution_count": 0,
      "outputs": []
    },
    {
      "metadata": {
        "id": "Rs9McA_XIEiK",
        "colab_type": "text"
      },
      "cell_type": "markdown",
      "source": [
        "#6.2 Distribución del precio por cantidad de ambientes"
      ]
    },
    {
      "metadata": {
        "id": "tdmynpzOIUee",
        "colab_type": "code",
        "colab": {}
      },
      "cell_type": "code",
      "source": [
        "ambientes = deptos_capital[['ambientes_final', 'price']]"
      ],
      "execution_count": 0,
      "outputs": []
    },
    {
      "metadata": {
        "id": "E7QjDG_fJgiE",
        "colab_type": "code",
        "colab": {}
      },
      "cell_type": "code",
      "source": [
        "todo = ambientes.price.mean()\n",
        "dos = ambientes[(ambientes.ambientes_final == 2)].price.dropna().mean()\n",
        "tres = ambientes[(ambientes.ambientes_final == 3)].price.dropna().mean()\n",
        "cuatro = ambientes[(ambientes.ambientes_final == 4)].price.dropna().mean()\n",
        "cinco = ambientes[(ambientes.ambientes_final == 5)].price.dropna().mean()\n",
        "seis_mas = ambientes[(pd.to_numeric(ambientes.ambientes_final) >= 6)].price.dropna().mean()"
      ],
      "execution_count": 0,
      "outputs": []
    },
    {
      "metadata": {
        "id": "CUHRyf-2Lh1m",
        "colab_type": "code",
        "colab": {}
      },
      "cell_type": "code",
      "source": [
        "q75, q25 = np.percentile(deptos_capital.price.dropna(), [75 ,25])\n",
        "iqr = q75 - q25"
      ],
      "execution_count": 0,
      "outputs": []
    },
    {
      "metadata": {
        "id": "bLb3ByypJlIk",
        "colab_type": "code",
        "colab": {}
      },
      "cell_type": "code",
      "source": [
        "outliertop = ambientes[(ambientes.ambientes_final == 1)&(ambientes['price'] > q75 + 1.5*iqr)].index.values\n",
        "outlierbot = ambientes[(ambientes.ambientes_final == 1)&(ambientes['price'] < q25 - 1.5*iqr)].index.values"
      ],
      "execution_count": 0,
      "outputs": []
    },
    {
      "metadata": {
        "id": "h76YpBlyJlK9",
        "colab_type": "code",
        "colab": {}
      },
      "cell_type": "code",
      "source": [
        "mono = ambientes[(ambientes.ambientes_final == 1)].drop(list(outliertop), axis=0).drop(list(outlierbot), axis=0).price.mean()"
      ],
      "execution_count": 0,
      "outputs": []
    },
    {
      "metadata": {
        "id": "fkb_mAyzLRTd",
        "colab_type": "code",
        "colab": {}
      },
      "cell_type": "code",
      "source": [
        "py.offline.init_notebook_mode(connected=True)\n",
        "data = [go.Bar(\n",
        "            x=['Promedio gral','Mono', 'Dos', 'Tres', 'Cuatro', 'Cinco', 'Seis o más' ],\n",
        "            y=[todo,mono,dos,tres,cuatro,cinco,seis_mas]    \n",
        "    )]\n",
        "layout = go.Layout(\n",
        "    title='Relación: Precio promedio-Cantidad de ambientes',\n",
        ")\n",
        "fig = go.Figure(data=data, layout=layout)\n",
        "py.offline.iplot(fig)"
      ],
      "execution_count": 0,
      "outputs": []
    },
    {
      "metadata": {
        "id": "EQcbppeDOo1I",
        "colab_type": "text"
      },
      "cell_type": "markdown",
      "source": [
        "###6.3 Distribución del precio por m2 en los distintos barrios\n",
        "\n",
        "\n",
        "\n",
        "\n"
      ]
    },
    {
      "metadata": {
        "id": "z3vDMU3FOhuF",
        "colab_type": "code",
        "colab": {}
      },
      "cell_type": "code",
      "source": [
        "import numpy as np\n",
        "import pandas as pd"
      ],
      "execution_count": 0,
      "outputs": []
    },
    {
      "metadata": {
        "id": "QPevxbzFOhre",
        "colab_type": "code",
        "colab": {}
      },
      "cell_type": "code",
      "source": [
        "pd.DataFrame(df).head(2)"
      ],
      "execution_count": 0,
      "outputs": []
    },
    {
      "metadata": {
        "id": "oackvgPzOhpH",
        "colab_type": "code",
        "colab": {}
      },
      "cell_type": "code",
      "source": [
        "df.columns"
      ],
      "execution_count": 0,
      "outputs": []
    },
    {
      "metadata": {
        "id": "4eoXSnfKOhmi",
        "colab_type": "code",
        "colab": {}
      },
      "cell_type": "code",
      "source": [
        "df.shape"
      ],
      "execution_count": 0,
      "outputs": []
    },
    {
      "metadata": {
        "id": "foBLgPdBOhju",
        "colab_type": "code",
        "colab": {}
      },
      "cell_type": "code",
      "source": [
        "#filtro y solo me quedo con los apartment\n",
        "df_filtered = df[(df['property_type'] != 'PH') & (df['property_type'] != 'house') & (df['property_type'] != 'shop') ]\n",
        "df_filtered.head(1)"
      ],
      "execution_count": 0,
      "outputs": []
    },
    {
      "metadata": {
        "id": "ZR7P_M1JOhg8",
        "colab_type": "code",
        "colab": {}
      },
      "cell_type": "code",
      "source": [
        "#me quedo solo con los apartment de capital\n",
        "capital_dptos = df_filtered[(df_filtered['state_name'] == 'Capital Federal')]\n",
        "type(capital_dptos)"
      ],
      "execution_count": 0,
      "outputs": []
    },
    {
      "metadata": {
        "id": "lNnFz8h9Ohd4",
        "colab_type": "code",
        "colab": {}
      },
      "cell_type": "code",
      "source": [
        "capital_dptos.head(1)"
      ],
      "execution_count": 0,
      "outputs": []
    },
    {
      "metadata": {
        "id": "qVkufHyVPMF4",
        "colab_type": "code",
        "colab": {}
      },
      "cell_type": "code",
      "source": [
        "capital_dptos.columns"
      ],
      "execution_count": 0,
      "outputs": []
    },
    {
      "metadata": {
        "id": "3HmZZELcPMD_",
        "colab_type": "code",
        "colab": {}
      },
      "cell_type": "code",
      "source": [
        "#elminamos columnas que no vamos a usar\n",
        "jm = capital_dptos.drop(columns=['operation', 'property_type', 'place_with_parent_names', 'country_name',\n",
        "                                 'state_name', 'geonames_id',\n",
        "       'lat-lon', 'lat', 'lon', 'price', 'currency',\n",
        "       'price_aprox_local_currency', 'price_aprox_usd', 'surface_total_in_m2',\n",
        "       'surface_covered_in_m2', 'price_per_m2', 'floor',\n",
        "       'rooms', 'expenses', 'properati_url', 'description', 'title',\n",
        "       'image_thumbnail'])\n",
        "jm.head(2)"
      ],
      "execution_count": 0,
      "outputs": []
    },
    {
      "metadata": {
        "id": "feMPvsoBPMBW",
        "colab_type": "code",
        "colab": {}
      },
      "cell_type": "code",
      "source": [
        "jm[\"price_usd_per_m2\"].head(1)"
      ],
      "execution_count": 0,
      "outputs": []
    },
    {
      "metadata": {
        "id": "uAATKmGDPL_k",
        "colab_type": "code",
        "colab": {}
      },
      "cell_type": "code",
      "source": [
        "jm['price_usd_per_m2'].notnull().sum()"
      ],
      "execution_count": 0,
      "outputs": []
    },
    {
      "metadata": {
        "id": "ZeWxOKnKPL87",
        "colab_type": "code",
        "colab": {}
      },
      "cell_type": "code",
      "source": [
        "jm['price_usd_per_m2'].isnull().sum()"
      ],
      "execution_count": 0,
      "outputs": []
    },
    {
      "metadata": {
        "id": "vLUWXs5JPL7Q",
        "colab_type": "code",
        "colab": {}
      },
      "cell_type": "code",
      "source": [
        "#eliminar NaN values\n",
        "gv = jm.dropna() \n",
        "type(gv)"
      ],
      "execution_count": 0,
      "outputs": []
    },
    {
      "metadata": {
        "id": "LKBHdZInPL4T",
        "colab_type": "code",
        "colab": {}
      },
      "cell_type": "code",
      "source": [
        "belgrano = gv[(gv['place_name'] == \"Belgrano\")]\n",
        "belgrano.head(2)"
      ],
      "execution_count": 0,
      "outputs": []
    },
    {
      "metadata": {
        "id": "v5B5MEXXPg6B",
        "colab_type": "code",
        "colab": {}
      },
      "cell_type": "code",
      "source": [
        "palermo = gv[(gv['place_name'] == \"Palermo\")]\n",
        "palermo.head(2)"
      ],
      "execution_count": 0,
      "outputs": []
    },
    {
      "metadata": {
        "id": "30LgGnV2Pg2C",
        "colab_type": "code",
        "colab": {}
      },
      "cell_type": "code",
      "source": [
        "caballito = gv[(gv['place_name'] == \"Caballito\")]\n",
        "caballito.head(2)"
      ],
      "execution_count": 0,
      "outputs": []
    },
    {
      "metadata": {
        "id": "x9b_CNvOPgya",
        "colab_type": "code",
        "colab": {}
      },
      "cell_type": "code",
      "source": [
        "santelmo = gv[(gv['place_name'] == \"San Telmo\")]\n",
        "santelmo.head(2)"
      ],
      "execution_count": 0,
      "outputs": []
    },
    {
      "metadata": {
        "id": "UBe6wsU1PL14",
        "colab_type": "code",
        "colab": {}
      },
      "cell_type": "code",
      "source": [
        "patricios = gv[(gv['place_name'] == \"Parque Patricios\")]\n",
        "patricios.head(2)"
      ],
      "execution_count": 0,
      "outputs": []
    },
    {
      "metadata": {
        "id": "03-ayM80PLzJ",
        "colab_type": "code",
        "colab": {}
      },
      "cell_type": "code",
      "source": [
        "abasto = gv[(gv['place_name'] == \"Abasto\")]\n",
        "abasto.shape"
      ],
      "execution_count": 0,
      "outputs": []
    },
    {
      "metadata": {
        "id": "GWlJEkitOg79",
        "colab_type": "code",
        "colab": {}
      },
      "cell_type": "code",
      "source": [
        "pompeya = gv[(gv['place_name'] == \"Pompeya\")]\n",
        "pompeya.shape"
      ],
      "execution_count": 0,
      "outputs": []
    },
    {
      "metadata": {
        "id": "4hqQaWTtPvCk",
        "colab_type": "code",
        "colab": {}
      },
      "cell_type": "code",
      "source": [
        "madero = gv[(gv['place_name'] == \"Puerto Madero\")]\n",
        "madero.shape"
      ],
      "execution_count": 0,
      "outputs": []
    },
    {
      "metadata": {
        "id": "2iWIX6BwPu_a",
        "colab_type": "code",
        "colab": {}
      },
      "cell_type": "code",
      "source": [
        "frames = [patricios, santelmo, palermo, belgrano, caballito, abasto, pompeya, madero]\n",
        "\n",
        "result = pd.concat(frames)"
      ],
      "execution_count": 0,
      "outputs": []
    },
    {
      "metadata": {
        "id": "qEc1QI2FPu9U",
        "colab_type": "code",
        "colab": {}
      },
      "cell_type": "code",
      "source": [
        "result.shape"
      ],
      "execution_count": 0,
      "outputs": []
    },
    {
      "metadata": {
        "id": "IlVsP4HFPu7M",
        "colab_type": "code",
        "colab": {}
      },
      "cell_type": "code",
      "source": [
        "result['price_usd_per_m2'].describe()"
      ],
      "execution_count": 0,
      "outputs": []
    },
    {
      "metadata": {
        "id": "J2zVN9Z2Pu5P",
        "colab_type": "code",
        "colab": {}
      },
      "cell_type": "code",
      "source": [
        "result['price_usd_per_m2'] = result['price_usd_per_m2']\n",
        "result['price_usd_per_m2'].head(10)"
      ],
      "execution_count": 0,
      "outputs": []
    },
    {
      "metadata": {
        "id": "HgHidUgWPu3M",
        "colab_type": "code",
        "colab": {}
      },
      "cell_type": "code",
      "source": [
        "!pip install joypy"
      ],
      "execution_count": 0,
      "outputs": []
    },
    {
      "metadata": {
        "id": "GYseBK1UPuzy",
        "colab_type": "code",
        "colab": {}
      },
      "cell_type": "code",
      "source": [
        "\n",
        "import pandas as pd\n"
      ],
      "execution_count": 0,
      "outputs": []
    },
    {
      "metadata": {
        "id": "h2uS8ANgPuxu",
        "colab_type": "code",
        "colab": {}
      },
      "cell_type": "code",
      "source": [
        "%matplotlib inline\n",
        "fig, axes = joypy.joyplot(result, by=\"place_name\", x_range=[500,5000])"
      ],
      "execution_count": 0,
      "outputs": []
    },
    {
      "metadata": {
        "id": "DaxZWUCePuvy",
        "colab_type": "code",
        "colab": {}
      },
      "cell_type": "code",
      "source": [
        "%matplotlib inline\n",
        "fig, axes = joypy.joyplot(result, by=\"place_name\", column=\"price_usd_per_m2\",\n",
        "                          hist=\"True\", bins=50, overlap=0,\n",
        "                          grid=True, legend=False, x_range=[600,6000], figsize=(20,10), ylabelsize=18, xlabelsize=18)\n",
        "\n"
      ],
      "execution_count": 0,
      "outputs": []
    },
    {
      "metadata": {
        "id": "Ds_gwBEyT6Fv",
        "colab_type": "text"
      },
      "cell_type": "markdown",
      "source": [
        ""
      ]
    },
    {
      "metadata": {
        "id": "z5p-gsyTUaCq",
        "colab_type": "text"
      },
      "cell_type": "markdown",
      "source": [
        "###Funnel del data set"
      ]
    },
    {
      "metadata": {
        "id": "oNeoq8EHUYCg",
        "colab_type": "code",
        "colab": {}
      },
      "cell_type": "code",
      "source": [
        "\n",
        "values = []\n",
        "phases = ['Tot_Prop', '  Prop_CABA  ', '  Dptos_CABA  ', '  Dptos_CABA (no de pozo)  ']\n",
        "\n",
        "values.append(df['operation'].size)\n",
        "values.append(df.loc[df.state_name == \"Capital Federal\",['operation']].size)\n",
        "values.append(df.loc[(df.state_name == \"Capital Federal\")&(df.property_type == \"apartment\"),['operation']].size)\n",
        "values.append(df.loc[(df.state_name == \"Capital Federal\")&(df.property_type == \"apartment\")&(df.description.str.contains(\"pozo\",case=False)==False),['operation']].size)\n"
      ],
      "execution_count": 0,
      "outputs": []
    },
    {
      "metadata": {
        "id": "t90E4BSHUiNz",
        "colab_type": "code",
        "colab": {}
      },
      "cell_type": "code",
      "source": [
        "\n",
        "\n",
        "import plotly.plotly  as py\n",
        "from plotly import graph_objs as go\n",
        "\n",
        "from __future__ import division\n",
        "\n",
        "import pandas as pd\n",
        "df = pd.read_csv('properatti.csv', encoding='latin1')\n",
        "\n",
        "\n",
        "\n",
        "py.sign_in('facundole', 'vNwUEsa8CUrb9oMHvz4P')\n",
        "\n",
        "values = []\n",
        "phases = ['Tot_Prop', '  Prop_CABA  ', '  Dptos_CABA  ', '  Dptos_CABA (no de pozo)  ']\n",
        "\n",
        "values.append(df['operation'].size)\n",
        "values.append(df.loc[df.state_name == \"Capital Federal\",['operation']].size)\n",
        "values.append(df.loc[(df.state_name == \"Capital Federal\")&(df.property_type == \"apartment\"),['operation']].size)\n",
        "values.append(df.loc[(df.state_name == \"Capital Federal\")&(df.property_type == \"apartment\")&(df.description.str.contains(\"pozo\",case=False)==False),['operation']].size)\n",
        "\n",
        "\n",
        "\n",
        "# chart stages data\n",
        "\n",
        "\n",
        "# color of each funnel section\n",
        "colors = ['rgb(32,155,160)', 'rgb(253,93,124)', 'rgb(28,119,139)', 'rgb(182,231,235)', 'rgb(35,154,160)']\n",
        "\n",
        "\n",
        "\n",
        "n_phase = len(phases)\n",
        " \n",
        "# the fixed width for the plot\n",
        "plot_width = 400\n",
        " \n",
        "# height of a section and difference between sections \n",
        "section_h = 100\n",
        "section_d = 10\n",
        " \n",
        "# multiply factor to calculate the width of other sections\n",
        "unit_width = plot_width / max(values)\n",
        " \n",
        "# width for all the sections (phases)\n",
        "phase_w = [int(value * unit_width) for value in values]\n",
        "\n",
        "height = section_h * n_phase + section_d * (n_phase-1)\n",
        " \n",
        "shapes = []\n",
        " \n",
        "label_y = []\n",
        " \n",
        "for i in range(n_phase):\n",
        "        if (i == n_phase-1):\n",
        "                points = [phase_w[i]/2, height, phase_w[i]/2, height - section_h]\n",
        "        else:\n",
        "                points = [phase_w[i]/2, height, phase_w[i+1]/2, height - section_h]\n",
        " \n",
        "        path = 'M {0} {1} L {2} {3} L -{2} {3} L -{0} {1} Z'.format(*points)\n",
        " \n",
        "        shape = {\n",
        "                'type': 'path',\n",
        "                'path': path,\n",
        "                'fillcolor': colors[i],\n",
        "                'line': {\n",
        "                    'width': 1,\n",
        "                    'color': colors[i]\n",
        "                }\n",
        "        }\n",
        "        shapes.append(shape)\n",
        "        \n",
        "        # Y-axis location for this section's details (phase name and value)\n",
        "        label_y.append(height - (section_h / 2))\n",
        " \n",
        "        height = height - (section_h + section_d)\n",
        "\n",
        "    \n",
        "    # For phase names\n",
        "label_trace = go.Scatter(\n",
        "    x=[-350]*n_phase,\n",
        "    y=label_y,\n",
        "    mode='text',\n",
        "    text=phases,\n",
        "    textfont=dict(\n",
        "        color='rgb(200,200,200)',\n",
        "        size=15\n",
        "    )\n",
        ")\n",
        " \n",
        "# For phase values\n",
        "value_trace = go.Scatter(\n",
        "    x=[350]*n_phase,\n",
        "    y=label_y,\n",
        "    mode='text',\n",
        "    text=values,\n",
        "    textfont=dict(\n",
        "        color='rgb(200,200,200)',\n",
        "        size=15\n",
        "    )\n",
        ")\n",
        "\n",
        "\n",
        "data = [label_trace, value_trace]\n",
        " \n",
        "layout = go.Layout(\n",
        "    title='Funnel Chart',\n",
        "    shapes=shapes,\n",
        "    height=560,\n",
        "    width=800,\n",
        "    showlegend=False,\n",
        "    paper_bgcolor='rgba(44,58,71,1)',\n",
        "    plot_bgcolor='rgba(44,58,71,1)',\n",
        "    xaxis=dict(\n",
        "        showticklabels=False,\n",
        "        zeroline=False,\n",
        "    ),\n",
        "    yaxis=dict(\n",
        "        showticklabels=False,\n",
        "        zeroline=False\n",
        "    )\n",
        ")\n",
        " \n",
        "fig = go.Figure(data=data, layout=layout)\n",
        "py.iplot(fig)\n",
        "    "
      ],
      "execution_count": 0,
      "outputs": []
    }
  ]
}